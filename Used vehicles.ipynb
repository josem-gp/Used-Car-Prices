{
 "cells": [
  {
   "cell_type": "markdown",
   "metadata": {},
   "source": [
    "# Predicting used car prices using Regression"
   ]
  },
  {
   "cell_type": "markdown",
   "metadata": {},
   "source": [
    "## Introduction and Objetives"
   ]
  },
  {
   "cell_type": "markdown",
   "metadata": {},
   "source": [
    "##### Approximately 40 million used vehicles are sold each year. Effective pricing strategies can help any company to efficiently sell its products in a competitive market and making profit."
   ]
  },
  {
   "cell_type": "markdown",
   "metadata": {},
   "source": [
    "##### There are two main goals I want to achieve with this Data Science Project. First, to estimate the price of used cars by taking into account a set of features, based on historical data. Second, to get a better understanding on the most relevant features that help determine the price of a used vehicle."
   ]
  },
  {
   "cell_type": "markdown",
   "metadata": {},
   "source": [
    "## Importing Libraries"
   ]
  },
  {
   "cell_type": "code",
   "execution_count": 1,
   "metadata": {},
   "outputs": [],
   "source": [
    "import pandas as pd # Import Pandas for data manipulation using dataframes\n",
    "import numpy as np # Import Numpy for data statistical analysis \n",
    "import matplotlib.pyplot as plt # Import matplotlib for data visualisation\n",
    "import seaborn as sns # Statistical data visualization"
   ]
  },
  {
   "cell_type": "markdown",
   "metadata": {},
   "source": [
    "## Importing Data"
   ]
  },
  {
   "cell_type": "code",
   "execution_count": 2,
   "metadata": {},
   "outputs": [],
   "source": [
    "database = pd.read_csv('vehicles.csv')"
   ]
  },
  {
   "cell_type": "code",
   "execution_count": 3,
   "metadata": {},
   "outputs": [],
   "source": [
    "np.random.seed(0) "
   ]
  },
  {
   "cell_type": "markdown",
   "metadata": {},
   "source": [
    "## EDA"
   ]
  },
  {
   "cell_type": "markdown",
   "metadata": {},
   "source": [
    "### Understanding the Data"
   ]
  },
  {
   "cell_type": "code",
   "execution_count": 4,
   "metadata": {
    "scrolled": true
   },
   "outputs": [
    {
     "data": {
      "text/plain": [
       "(423857, 25)"
      ]
     },
     "execution_count": 4,
     "metadata": {},
     "output_type": "execute_result"
    }
   ],
   "source": [
    "database.shape"
   ]
  },
  {
   "cell_type": "code",
   "execution_count": 5,
   "metadata": {},
   "outputs": [
    {
     "data": {
      "text/plain": [
       "Index(['id', 'url', 'region', 'region_url', 'price', 'year', 'manufacturer',\n",
       "       'model', 'condition', 'cylinders', 'fuel', 'odometer', 'title_status',\n",
       "       'transmission', 'vin', 'drive', 'size', 'type', 'paint_color',\n",
       "       'image_url', 'description', 'county', 'state', 'lat', 'long'],\n",
       "      dtype='object')"
      ]
     },
     "execution_count": 5,
     "metadata": {},
     "output_type": "execute_result"
    }
   ],
   "source": [
    "database.columns"
   ]
  },
  {
   "cell_type": "code",
   "execution_count": 6,
   "metadata": {
    "scrolled": true
   },
   "outputs": [
    {
     "name": "stdout",
     "output_type": "stream",
     "text": [
      "<class 'pandas.core.frame.DataFrame'>\n",
      "RangeIndex: 423857 entries, 0 to 423856\n",
      "Data columns (total 25 columns):\n",
      " #   Column        Non-Null Count   Dtype  \n",
      "---  ------        --------------   -----  \n",
      " 0   id            423857 non-null  int64  \n",
      " 1   url           423857 non-null  object \n",
      " 2   region        423857 non-null  object \n",
      " 3   region_url    423857 non-null  object \n",
      " 4   price         423857 non-null  int64  \n",
      " 5   year          328743 non-null  float64\n",
      " 6   manufacturer  313242 non-null  object \n",
      " 7   model         325384 non-null  object \n",
      " 8   condition     176719 non-null  object \n",
      " 9   cylinders     197679 non-null  object \n",
      " 10  fuel          327214 non-null  object \n",
      " 11  odometer      270585 non-null  float64\n",
      " 12  title_status  327759 non-null  object \n",
      " 13  transmission  328065 non-null  object \n",
      " 14  vin           184420 non-null  object \n",
      " 15  drive         231119 non-null  object \n",
      " 16  size          102627 non-null  object \n",
      " 17  type          241157 non-null  object \n",
      " 18  paint_color   222203 non-null  object \n",
      " 19  image_url     329661 non-null  object \n",
      " 20  description   329654 non-null  object \n",
      " 21  county        0 non-null       float64\n",
      " 22  state         423857 non-null  object \n",
      " 23  lat           324404 non-null  float64\n",
      " 24  long          324404 non-null  float64\n",
      "dtypes: float64(5), int64(2), object(18)\n",
      "memory usage: 80.8+ MB\n"
     ]
    }
   ],
   "source": [
    "database.info()"
   ]
  },
  {
   "cell_type": "code",
   "execution_count": 7,
   "metadata": {},
   "outputs": [
    {
     "data": {
      "text/html": [
       "<div>\n",
       "<style scoped>\n",
       "    .dataframe tbody tr th:only-of-type {\n",
       "        vertical-align: middle;\n",
       "    }\n",
       "\n",
       "    .dataframe tbody tr th {\n",
       "        vertical-align: top;\n",
       "    }\n",
       "\n",
       "    .dataframe thead th {\n",
       "        text-align: right;\n",
       "    }\n",
       "</style>\n",
       "<table border=\"1\" class=\"dataframe\">\n",
       "  <thead>\n",
       "    <tr style=\"text-align: right;\">\n",
       "      <th></th>\n",
       "      <th>id</th>\n",
       "      <th>price</th>\n",
       "      <th>year</th>\n",
       "      <th>odometer</th>\n",
       "      <th>county</th>\n",
       "      <th>lat</th>\n",
       "      <th>long</th>\n",
       "    </tr>\n",
       "  </thead>\n",
       "  <tbody>\n",
       "    <tr>\n",
       "      <th>count</th>\n",
       "      <td>4.238570e+05</td>\n",
       "      <td>4.238570e+05</td>\n",
       "      <td>328743.000000</td>\n",
       "      <td>2.705850e+05</td>\n",
       "      <td>0.0</td>\n",
       "      <td>324404.000000</td>\n",
       "      <td>324404.000000</td>\n",
       "    </tr>\n",
       "    <tr>\n",
       "      <th>mean</th>\n",
       "      <td>7.190602e+09</td>\n",
       "      <td>5.779437e+04</td>\n",
       "      <td>2009.827358</td>\n",
       "      <td>9.942578e+04</td>\n",
       "      <td>NaN</td>\n",
       "      <td>38.731429</td>\n",
       "      <td>-93.949367</td>\n",
       "    </tr>\n",
       "    <tr>\n",
       "      <th>std</th>\n",
       "      <td>5.159269e+06</td>\n",
       "      <td>1.002581e+07</td>\n",
       "      <td>10.135809</td>\n",
       "      <td>1.204833e+05</td>\n",
       "      <td>NaN</td>\n",
       "      <td>5.902977</td>\n",
       "      <td>17.930566</td>\n",
       "    </tr>\n",
       "    <tr>\n",
       "      <th>min</th>\n",
       "      <td>7.178302e+09</td>\n",
       "      <td>0.000000e+00</td>\n",
       "      <td>1900.000000</td>\n",
       "      <td>0.000000e+00</td>\n",
       "      <td>NaN</td>\n",
       "      <td>-80.386400</td>\n",
       "      <td>-161.394000</td>\n",
       "    </tr>\n",
       "    <tr>\n",
       "      <th>25%</th>\n",
       "      <td>7.186688e+09</td>\n",
       "      <td>4.499000e+03</td>\n",
       "      <td>2007.000000</td>\n",
       "      <td>4.432400e+04</td>\n",
       "      <td>NaN</td>\n",
       "      <td>35.054500</td>\n",
       "      <td>-106.678000</td>\n",
       "    </tr>\n",
       "    <tr>\n",
       "      <th>50%</th>\n",
       "      <td>7.192068e+09</td>\n",
       "      <td>9.995000e+03</td>\n",
       "      <td>2012.000000</td>\n",
       "      <td>9.174900e+04</td>\n",
       "      <td>NaN</td>\n",
       "      <td>39.366900</td>\n",
       "      <td>-88.009900</td>\n",
       "    </tr>\n",
       "    <tr>\n",
       "      <th>75%</th>\n",
       "      <td>7.194909e+09</td>\n",
       "      <td>1.899500e+04</td>\n",
       "      <td>2016.000000</td>\n",
       "      <td>1.372370e+05</td>\n",
       "      <td>NaN</td>\n",
       "      <td>42.517075</td>\n",
       "      <td>-80.832500</td>\n",
       "    </tr>\n",
       "    <tr>\n",
       "      <th>max</th>\n",
       "      <td>7.197006e+09</td>\n",
       "      <td>3.808256e+09</td>\n",
       "      <td>2021.000000</td>\n",
       "      <td>1.000000e+07</td>\n",
       "      <td>NaN</td>\n",
       "      <td>80.383400</td>\n",
       "      <td>115.524000</td>\n",
       "    </tr>\n",
       "  </tbody>\n",
       "</table>\n",
       "</div>"
      ],
      "text/plain": [
       "                 id         price           year      odometer  county  \\\n",
       "count  4.238570e+05  4.238570e+05  328743.000000  2.705850e+05     0.0   \n",
       "mean   7.190602e+09  5.779437e+04    2009.827358  9.942578e+04     NaN   \n",
       "std    5.159269e+06  1.002581e+07      10.135809  1.204833e+05     NaN   \n",
       "min    7.178302e+09  0.000000e+00    1900.000000  0.000000e+00     NaN   \n",
       "25%    7.186688e+09  4.499000e+03    2007.000000  4.432400e+04     NaN   \n",
       "50%    7.192068e+09  9.995000e+03    2012.000000  9.174900e+04     NaN   \n",
       "75%    7.194909e+09  1.899500e+04    2016.000000  1.372370e+05     NaN   \n",
       "max    7.197006e+09  3.808256e+09    2021.000000  1.000000e+07     NaN   \n",
       "\n",
       "                 lat           long  \n",
       "count  324404.000000  324404.000000  \n",
       "mean       38.731429     -93.949367  \n",
       "std         5.902977      17.930566  \n",
       "min       -80.386400    -161.394000  \n",
       "25%        35.054500    -106.678000  \n",
       "50%        39.366900     -88.009900  \n",
       "75%        42.517075     -80.832500  \n",
       "max        80.383400     115.524000  "
      ]
     },
     "execution_count": 7,
     "metadata": {},
     "output_type": "execute_result"
    }
   ],
   "source": [
    "#We can see there is a big difference between the max and the 75% of each price/odometer. \n",
    "#Likewise, there is a big difference between the min and the 25% in year/price/odometer\n",
    "#Thus, we will handle the outliers later on the kernel.\n",
    "database.describe()"
   ]
  },
  {
   "cell_type": "code",
   "execution_count": 8,
   "metadata": {},
   "outputs": [
    {
     "data": {
      "text/html": [
       "<div>\n",
       "<style scoped>\n",
       "    .dataframe tbody tr th:only-of-type {\n",
       "        vertical-align: middle;\n",
       "    }\n",
       "\n",
       "    .dataframe tbody tr th {\n",
       "        vertical-align: top;\n",
       "    }\n",
       "\n",
       "    .dataframe thead th {\n",
       "        text-align: right;\n",
       "    }\n",
       "</style>\n",
       "<table border=\"1\" class=\"dataframe\">\n",
       "  <thead>\n",
       "    <tr style=\"text-align: right;\">\n",
       "      <th></th>\n",
       "      <th>id</th>\n",
       "      <th>url</th>\n",
       "      <th>region</th>\n",
       "      <th>region_url</th>\n",
       "      <th>price</th>\n",
       "      <th>year</th>\n",
       "      <th>manufacturer</th>\n",
       "      <th>model</th>\n",
       "      <th>condition</th>\n",
       "      <th>cylinders</th>\n",
       "      <th>...</th>\n",
       "      <th>drive</th>\n",
       "      <th>size</th>\n",
       "      <th>type</th>\n",
       "      <th>paint_color</th>\n",
       "      <th>image_url</th>\n",
       "      <th>description</th>\n",
       "      <th>county</th>\n",
       "      <th>state</th>\n",
       "      <th>lat</th>\n",
       "      <th>long</th>\n",
       "    </tr>\n",
       "  </thead>\n",
       "  <tbody>\n",
       "    <tr>\n",
       "      <th>0</th>\n",
       "      <td>7184791621</td>\n",
       "      <td>https://duluth.craigslist.org/ctd/d/duluth-200...</td>\n",
       "      <td>duluth / superior</td>\n",
       "      <td>https://duluth.craigslist.org</td>\n",
       "      <td>6995</td>\n",
       "      <td>2000.0</td>\n",
       "      <td>gmc</td>\n",
       "      <td>new sierra 1500</td>\n",
       "      <td>excellent</td>\n",
       "      <td>8 cylinders</td>\n",
       "      <td>...</td>\n",
       "      <td>4wd</td>\n",
       "      <td>NaN</td>\n",
       "      <td>NaN</td>\n",
       "      <td>red</td>\n",
       "      <td>https://images.craigslist.org/00n0n_f06ykBMcdh...</td>\n",
       "      <td>2000 *** GMC New Sierra 1500 Ext Cab 157.5  WB...</td>\n",
       "      <td>NaN</td>\n",
       "      <td>mn</td>\n",
       "      <td>46.8433</td>\n",
       "      <td>-92.2550</td>\n",
       "    </tr>\n",
       "    <tr>\n",
       "      <th>1</th>\n",
       "      <td>7184773187</td>\n",
       "      <td>https://duluth.craigslist.org/cto/d/saginaw-20...</td>\n",
       "      <td>duluth / superior</td>\n",
       "      <td>https://duluth.craigslist.org</td>\n",
       "      <td>8750</td>\n",
       "      <td>2013.0</td>\n",
       "      <td>hyundai</td>\n",
       "      <td>sonata</td>\n",
       "      <td>excellent</td>\n",
       "      <td>4 cylinders</td>\n",
       "      <td>...</td>\n",
       "      <td>fwd</td>\n",
       "      <td>NaN</td>\n",
       "      <td>NaN</td>\n",
       "      <td>grey</td>\n",
       "      <td>https://images.craigslist.org/00d0d_kgZ6xoeRw2...</td>\n",
       "      <td>For Sale:  2013 Hyundai Sonata GLS - $8750.  O...</td>\n",
       "      <td>NaN</td>\n",
       "      <td>mn</td>\n",
       "      <td>46.9074</td>\n",
       "      <td>-92.4638</td>\n",
       "    </tr>\n",
       "    <tr>\n",
       "      <th>2</th>\n",
       "      <td>7193375964</td>\n",
       "      <td>https://newhaven.craigslist.org/cto/d/stratfor...</td>\n",
       "      <td>new haven</td>\n",
       "      <td>https://newhaven.craigslist.org</td>\n",
       "      <td>10900</td>\n",
       "      <td>2013.0</td>\n",
       "      <td>toyota</td>\n",
       "      <td>prius</td>\n",
       "      <td>good</td>\n",
       "      <td>4 cylinders</td>\n",
       "      <td>...</td>\n",
       "      <td>fwd</td>\n",
       "      <td>NaN</td>\n",
       "      <td>NaN</td>\n",
       "      <td>blue</td>\n",
       "      <td>https://images.craigslist.org/00d0d_3sHGxPbY2O...</td>\n",
       "      <td>2013 Prius V Model Two. One owner—must sell my...</td>\n",
       "      <td>NaN</td>\n",
       "      <td>ct</td>\n",
       "      <td>41.1770</td>\n",
       "      <td>-73.1336</td>\n",
       "    </tr>\n",
       "    <tr>\n",
       "      <th>3</th>\n",
       "      <td>7195108810</td>\n",
       "      <td>https://albuquerque.craigslist.org/cto/d/albuq...</td>\n",
       "      <td>albuquerque</td>\n",
       "      <td>https://albuquerque.craigslist.org</td>\n",
       "      <td>12500</td>\n",
       "      <td>2003.0</td>\n",
       "      <td>mitsubishi</td>\n",
       "      <td>lancer</td>\n",
       "      <td>good</td>\n",
       "      <td>4 cylinders</td>\n",
       "      <td>...</td>\n",
       "      <td>4wd</td>\n",
       "      <td>mid-size</td>\n",
       "      <td>sedan</td>\n",
       "      <td>grey</td>\n",
       "      <td>https://images.craigslist.org/00m0m_4a8Pb6JbMG...</td>\n",
       "      <td>2003 Mitsubishi Lancer Evolution, silver.  Abo...</td>\n",
       "      <td>NaN</td>\n",
       "      <td>nm</td>\n",
       "      <td>35.1868</td>\n",
       "      <td>-106.6650</td>\n",
       "    </tr>\n",
       "    <tr>\n",
       "      <th>4</th>\n",
       "      <td>7184712241</td>\n",
       "      <td>https://duluth.craigslist.org/ctd/d/rush-city-...</td>\n",
       "      <td>duluth / superior</td>\n",
       "      <td>https://duluth.craigslist.org</td>\n",
       "      <td>16995</td>\n",
       "      <td>2007.0</td>\n",
       "      <td>gmc</td>\n",
       "      <td>sierra classic 2500hd</td>\n",
       "      <td>good</td>\n",
       "      <td>8 cylinders</td>\n",
       "      <td>...</td>\n",
       "      <td>4wd</td>\n",
       "      <td>full-size</td>\n",
       "      <td>truck</td>\n",
       "      <td>white</td>\n",
       "      <td>https://images.craigslist.org/01414_g093aPtSMW...</td>\n",
       "      <td>**Bad Credit, No Credit... No Problem!**2007 G...</td>\n",
       "      <td>NaN</td>\n",
       "      <td>mn</td>\n",
       "      <td>45.6836</td>\n",
       "      <td>-92.9648</td>\n",
       "    </tr>\n",
       "  </tbody>\n",
       "</table>\n",
       "<p>5 rows × 25 columns</p>\n",
       "</div>"
      ],
      "text/plain": [
       "           id                                                url  \\\n",
       "0  7184791621  https://duluth.craigslist.org/ctd/d/duluth-200...   \n",
       "1  7184773187  https://duluth.craigslist.org/cto/d/saginaw-20...   \n",
       "2  7193375964  https://newhaven.craigslist.org/cto/d/stratfor...   \n",
       "3  7195108810  https://albuquerque.craigslist.org/cto/d/albuq...   \n",
       "4  7184712241  https://duluth.craigslist.org/ctd/d/rush-city-...   \n",
       "\n",
       "              region                          region_url  price    year  \\\n",
       "0  duluth / superior       https://duluth.craigslist.org   6995  2000.0   \n",
       "1  duluth / superior       https://duluth.craigslist.org   8750  2013.0   \n",
       "2          new haven     https://newhaven.craigslist.org  10900  2013.0   \n",
       "3        albuquerque  https://albuquerque.craigslist.org  12500  2003.0   \n",
       "4  duluth / superior       https://duluth.craigslist.org  16995  2007.0   \n",
       "\n",
       "  manufacturer                  model  condition    cylinders  ... drive  \\\n",
       "0          gmc        new sierra 1500  excellent  8 cylinders  ...   4wd   \n",
       "1      hyundai                 sonata  excellent  4 cylinders  ...   fwd   \n",
       "2       toyota                  prius       good  4 cylinders  ...   fwd   \n",
       "3   mitsubishi                 lancer       good  4 cylinders  ...   4wd   \n",
       "4          gmc  sierra classic 2500hd       good  8 cylinders  ...   4wd   \n",
       "\n",
       "        size   type paint_color  \\\n",
       "0        NaN    NaN         red   \n",
       "1        NaN    NaN        grey   \n",
       "2        NaN    NaN        blue   \n",
       "3   mid-size  sedan        grey   \n",
       "4  full-size  truck       white   \n",
       "\n",
       "                                           image_url  \\\n",
       "0  https://images.craigslist.org/00n0n_f06ykBMcdh...   \n",
       "1  https://images.craigslist.org/00d0d_kgZ6xoeRw2...   \n",
       "2  https://images.craigslist.org/00d0d_3sHGxPbY2O...   \n",
       "3  https://images.craigslist.org/00m0m_4a8Pb6JbMG...   \n",
       "4  https://images.craigslist.org/01414_g093aPtSMW...   \n",
       "\n",
       "                                         description county state      lat  \\\n",
       "0  2000 *** GMC New Sierra 1500 Ext Cab 157.5  WB...    NaN    mn  46.8433   \n",
       "1  For Sale:  2013 Hyundai Sonata GLS - $8750.  O...    NaN    mn  46.9074   \n",
       "2  2013 Prius V Model Two. One owner—must sell my...    NaN    ct  41.1770   \n",
       "3  2003 Mitsubishi Lancer Evolution, silver.  Abo...    NaN    nm  35.1868   \n",
       "4  **Bad Credit, No Credit... No Problem!**2007 G...    NaN    mn  45.6836   \n",
       "\n",
       "       long  \n",
       "0  -92.2550  \n",
       "1  -92.4638  \n",
       "2  -73.1336  \n",
       "3 -106.6650  \n",
       "4  -92.9648  \n",
       "\n",
       "[5 rows x 25 columns]"
      ]
     },
     "execution_count": 8,
     "metadata": {},
     "output_type": "execute_result"
    }
   ],
   "source": [
    "database.head(5)"
   ]
  },
  {
   "cell_type": "markdown",
   "metadata": {},
   "source": [
    "### Missing Values"
   ]
  },
  {
   "cell_type": "code",
   "execution_count": 9,
   "metadata": {},
   "outputs": [
    {
     "data": {
      "text/html": [
       "<div>\n",
       "<style scoped>\n",
       "    .dataframe tbody tr th:only-of-type {\n",
       "        vertical-align: middle;\n",
       "    }\n",
       "\n",
       "    .dataframe tbody tr th {\n",
       "        vertical-align: top;\n",
       "    }\n",
       "\n",
       "    .dataframe thead th {\n",
       "        text-align: right;\n",
       "    }\n",
       "</style>\n",
       "<table border=\"1\" class=\"dataframe\">\n",
       "  <thead>\n",
       "    <tr style=\"text-align: right;\">\n",
       "      <th></th>\n",
       "      <th>Null</th>\n",
       "      <th>Percentage</th>\n",
       "    </tr>\n",
       "  </thead>\n",
       "  <tbody>\n",
       "    <tr>\n",
       "      <th>county</th>\n",
       "      <td>423857</td>\n",
       "      <td>100.0</td>\n",
       "    </tr>\n",
       "    <tr>\n",
       "      <th>size</th>\n",
       "      <td>321230</td>\n",
       "      <td>75.8</td>\n",
       "    </tr>\n",
       "    <tr>\n",
       "      <th>condition</th>\n",
       "      <td>247138</td>\n",
       "      <td>58.3</td>\n",
       "    </tr>\n",
       "    <tr>\n",
       "      <th>vin</th>\n",
       "      <td>239437</td>\n",
       "      <td>56.5</td>\n",
       "    </tr>\n",
       "    <tr>\n",
       "      <th>cylinders</th>\n",
       "      <td>226178</td>\n",
       "      <td>53.4</td>\n",
       "    </tr>\n",
       "    <tr>\n",
       "      <th>paint_color</th>\n",
       "      <td>201654</td>\n",
       "      <td>47.6</td>\n",
       "    </tr>\n",
       "    <tr>\n",
       "      <th>drive</th>\n",
       "      <td>192738</td>\n",
       "      <td>45.5</td>\n",
       "    </tr>\n",
       "    <tr>\n",
       "      <th>type</th>\n",
       "      <td>182700</td>\n",
       "      <td>43.1</td>\n",
       "    </tr>\n",
       "    <tr>\n",
       "      <th>odometer</th>\n",
       "      <td>153272</td>\n",
       "      <td>36.2</td>\n",
       "    </tr>\n",
       "    <tr>\n",
       "      <th>manufacturer</th>\n",
       "      <td>110615</td>\n",
       "      <td>26.1</td>\n",
       "    </tr>\n",
       "    <tr>\n",
       "      <th>long</th>\n",
       "      <td>99453</td>\n",
       "      <td>23.5</td>\n",
       "    </tr>\n",
       "    <tr>\n",
       "      <th>lat</th>\n",
       "      <td>99453</td>\n",
       "      <td>23.5</td>\n",
       "    </tr>\n",
       "    <tr>\n",
       "      <th>model</th>\n",
       "      <td>98473</td>\n",
       "      <td>23.2</td>\n",
       "    </tr>\n",
       "    <tr>\n",
       "      <th>fuel</th>\n",
       "      <td>96643</td>\n",
       "      <td>22.8</td>\n",
       "    </tr>\n",
       "    <tr>\n",
       "      <th>title_status</th>\n",
       "      <td>96098</td>\n",
       "      <td>22.7</td>\n",
       "    </tr>\n",
       "    <tr>\n",
       "      <th>transmission</th>\n",
       "      <td>95792</td>\n",
       "      <td>22.6</td>\n",
       "    </tr>\n",
       "    <tr>\n",
       "      <th>year</th>\n",
       "      <td>95114</td>\n",
       "      <td>22.4</td>\n",
       "    </tr>\n",
       "    <tr>\n",
       "      <th>description</th>\n",
       "      <td>94203</td>\n",
       "      <td>22.2</td>\n",
       "    </tr>\n",
       "    <tr>\n",
       "      <th>image_url</th>\n",
       "      <td>94196</td>\n",
       "      <td>22.2</td>\n",
       "    </tr>\n",
       "    <tr>\n",
       "      <th>url</th>\n",
       "      <td>0</td>\n",
       "      <td>0.0</td>\n",
       "    </tr>\n",
       "    <tr>\n",
       "      <th>price</th>\n",
       "      <td>0</td>\n",
       "      <td>0.0</td>\n",
       "    </tr>\n",
       "    <tr>\n",
       "      <th>region_url</th>\n",
       "      <td>0</td>\n",
       "      <td>0.0</td>\n",
       "    </tr>\n",
       "    <tr>\n",
       "      <th>state</th>\n",
       "      <td>0</td>\n",
       "      <td>0.0</td>\n",
       "    </tr>\n",
       "    <tr>\n",
       "      <th>region</th>\n",
       "      <td>0</td>\n",
       "      <td>0.0</td>\n",
       "    </tr>\n",
       "    <tr>\n",
       "      <th>id</th>\n",
       "      <td>0</td>\n",
       "      <td>0.0</td>\n",
       "    </tr>\n",
       "  </tbody>\n",
       "</table>\n",
       "</div>"
      ],
      "text/plain": [
       "                Null  Percentage\n",
       "county        423857       100.0\n",
       "size          321230        75.8\n",
       "condition     247138        58.3\n",
       "vin           239437        56.5\n",
       "cylinders     226178        53.4\n",
       "paint_color   201654        47.6\n",
       "drive         192738        45.5\n",
       "type          182700        43.1\n",
       "odometer      153272        36.2\n",
       "manufacturer  110615        26.1\n",
       "long           99453        23.5\n",
       "lat            99453        23.5\n",
       "model          98473        23.2\n",
       "fuel           96643        22.8\n",
       "title_status   96098        22.7\n",
       "transmission   95792        22.6\n",
       "year           95114        22.4\n",
       "description    94203        22.2\n",
       "image_url      94196        22.2\n",
       "url                0         0.0\n",
       "price              0         0.0\n",
       "region_url         0         0.0\n",
       "state              0         0.0\n",
       "region             0         0.0\n",
       "id                 0         0.0"
      ]
     },
     "execution_count": 9,
     "metadata": {},
     "output_type": "execute_result"
    }
   ],
   "source": [
    "#After understanding the database structure better, we check null values\n",
    "missing_values_count = pd.DataFrame({'Null': database.isnull().sum()})\n",
    "total = len(database)\n",
    "percentage_null = round((missing_values_count['Null']/total)*100,1)\n",
    "missing_values_count['Percentage'] = percentage_null\n",
    "missing_values_count.sort_values(by= 'Null' , ascending = False)"
   ]
  },
  {
   "cell_type": "code",
   "execution_count": 10,
   "metadata": {},
   "outputs": [],
   "source": [
    "#We will be droping some columns that we won't be using\n",
    "database.drop(['lat', 'long', 'region_url', 'url', 'vin', 'county', 'id', 'image_url'], axis = 1, inplace = True)"
   ]
  },
  {
   "cell_type": "code",
   "execution_count": 11,
   "metadata": {},
   "outputs": [
    {
     "data": {
      "text/plain": [
       "(423857, 17)"
      ]
     },
     "execution_count": 11,
     "metadata": {},
     "output_type": "execute_result"
    }
   ],
   "source": [
    "database.shape"
   ]
  },
  {
   "cell_type": "code",
   "execution_count": 12,
   "metadata": {},
   "outputs": [
    {
     "data": {
      "text/plain": [
       "69813"
      ]
     },
     "execution_count": 12,
     "metadata": {},
     "output_type": "execute_result"
    }
   ],
   "source": [
    "#Finally, we will check in case there are some duplicated rows.\n",
    "database.duplicated().sum()"
   ]
  },
  {
   "cell_type": "code",
   "execution_count": 13,
   "metadata": {},
   "outputs": [],
   "source": [
    "#We drop the duplicates and keep one of each \n",
    "database = database.drop_duplicates(keep='first')"
   ]
  },
  {
   "cell_type": "markdown",
   "metadata": {},
   "source": [
    "## Visualization"
   ]
  },
  {
   "cell_type": "code",
   "execution_count": 14,
   "metadata": {
    "scrolled": true
   },
   "outputs": [
    {
     "data": {
      "text/plain": [
       "array([[<matplotlib.axes._subplots.AxesSubplot object at 0x7fea9a555eb0>,\n",
       "        <matplotlib.axes._subplots.AxesSubplot object at 0x7fea9a3f73a0>],\n",
       "       [<matplotlib.axes._subplots.AxesSubplot object at 0x7fea9a5b4820>,\n",
       "        <matplotlib.axes._subplots.AxesSubplot object at 0x7fea9a5e1cd0>]],\n",
       "      dtype=object)"
      ]
     },
     "execution_count": 14,
     "metadata": {},
     "output_type": "execute_result"
    },
    {
     "data": {
      "image/png": "[encoded data removed]",
      "text/plain": [
       "<Figure size 1440x1440 with 4 Axes>"
      ]
     },
     "metadata": {
      "needs_background": "light"
     },
     "output_type": "display_data"
    }
   ],
   "source": [
    "#We check the distribution of some features in our database\n",
    "database.hist(bins= 100, figsize = (20,20), color = 'r')"
   ]
  },
  {
   "cell_type": "code",
   "execution_count": 15,
   "metadata": {},
   "outputs": [
    {
     "data": {
      "text/plain": [
       "<matplotlib.axes._subplots.AxesSubplot at 0x7fea9c51ae20>"
      ]
     },
     "execution_count": 15,
     "metadata": {},
     "output_type": "execute_result"
    },
    {
     "data": {
      "image/png": "[encoded data removed]",
      "text/plain": [
       "<Figure size 720x720 with 2 Axes>"
      ]
     },
     "metadata": {
      "needs_background": "light"
     },
     "output_type": "display_data"
    }
   ],
   "source": [
    "plt.figure(figsize=[10,10])\n",
    "plt.subplot(311)\n",
    "sns.countplot(x = 'transmission', hue = 'fuel', data = database)\n",
    "plt.subplot(212)\n",
    "sns.countplot(x = 'type', hue = 'drive', data = database)"
   ]
  },
  {
   "cell_type": "markdown",
   "metadata": {},
   "source": [
    "## Feature Engineering"
   ]
  },
  {
   "cell_type": "markdown",
   "metadata": {},
   "source": [
    "### Regular Expressions to fill missing values "
   ]
  },
  {
   "cell_type": "code",
   "execution_count": 16,
   "metadata": {},
   "outputs": [],
   "source": [
    "#We create a variable with only the features we want\n",
    "test = database[['manufacturer', 'condition',\n",
    "       'cylinders', 'fuel', 'title_status', 'transmission',\n",
    "       'drive', 'size', 'type', 'paint_color']]"
   ]
  },
  {
   "cell_type": "code",
   "execution_count": 17,
   "metadata": {
    "scrolled": true
   },
   "outputs": [
    {
     "name": "stderr",
     "output_type": "stream",
     "text": [
      "<ipython-input-17-bfd040b68609>:11: FutureWarning: Passing a negative integer is deprecated in version 1.0 and will not be supported in future version. Instead, use None to not limit the column width.\n",
      "  pd.set_option('display.max_colwidth', -1)\n"
     ]
    },
    {
     "data": {
      "text/html": [
       "<div>\n",
       "<style scoped>\n",
       "    .dataframe tbody tr th:only-of-type {\n",
       "        vertical-align: middle;\n",
       "    }\n",
       "\n",
       "    .dataframe tbody tr th {\n",
       "        vertical-align: top;\n",
       "    }\n",
       "\n",
       "    .dataframe thead th {\n",
       "        text-align: right;\n",
       "    }\n",
       "</style>\n",
       "<table border=\"1\" class=\"dataframe\">\n",
       "  <thead>\n",
       "    <tr style=\"text-align: right;\">\n",
       "      <th></th>\n",
       "      <th>columns</th>\n",
       "      <th>values</th>\n",
       "    </tr>\n",
       "  </thead>\n",
       "  <tbody>\n",
       "    <tr>\n",
       "      <th>0</th>\n",
       "      <td>manufacturer</td>\n",
       "      <td>[gmc, hyundai, toyota, mitsubishi, ford, chevrolet, ram, nan, buick, jeep, dodge, subaru, nissan, audi, rover, lexus, honda, chrysler, mini, pontiac, mercedes-benz, cadillac, bmw, kia, volvo, volkswagen, jaguar, acura, saturn, mazda, mercury, lincoln, infiniti, ferrari, fiat, tesla, land rover, harley-davidson, datsun, alfa-romeo, morgan, aston-martin, porche, hennessey]</td>\n",
       "    </tr>\n",
       "    <tr>\n",
       "      <th>1</th>\n",
       "      <td>condition</td>\n",
       "      <td>[excellent, good, fair, nan, like new, salvage, new]</td>\n",
       "    </tr>\n",
       "    <tr>\n",
       "      <th>2</th>\n",
       "      <td>cylinders</td>\n",
       "      <td>[8 cylinders, 4 cylinders, 6 cylinders, nan, 10 cylinders, 12 cylinders, 5 cylinders, 3 cylinders, other]</td>\n",
       "    </tr>\n",
       "    <tr>\n",
       "      <th>3</th>\n",
       "      <td>fuel</td>\n",
       "      <td>[gas, hybrid, diesel, other, electric, nan]</td>\n",
       "    </tr>\n",
       "    <tr>\n",
       "      <th>4</th>\n",
       "      <td>title_status</td>\n",
       "      <td>[clean, lien, rebuilt, salvage, missing, parts only, nan]</td>\n",
       "    </tr>\n",
       "    <tr>\n",
       "      <th>5</th>\n",
       "      <td>transmission</td>\n",
       "      <td>[automatic, manual, other, nan]</td>\n",
       "    </tr>\n",
       "    <tr>\n",
       "      <th>6</th>\n",
       "      <td>drive</td>\n",
       "      <td>[4wd, fwd, rwd, nan]</td>\n",
       "    </tr>\n",
       "    <tr>\n",
       "      <th>7</th>\n",
       "      <td>size</td>\n",
       "      <td>[nan, mid-size, full-size, compact, sub-compact]</td>\n",
       "    </tr>\n",
       "    <tr>\n",
       "      <th>8</th>\n",
       "      <td>type</td>\n",
       "      <td>[nan, sedan, truck, SUV, other, mini-van, wagon, hatchback, coupe, pickup, convertible, van, bus, offroad]</td>\n",
       "    </tr>\n",
       "    <tr>\n",
       "      <th>9</th>\n",
       "      <td>paint_color</td>\n",
       "      <td>[red, grey, blue, white, custom, silver, brown, black, nan, purple, green, orange, yellow]</td>\n",
       "    </tr>\n",
       "  </tbody>\n",
       "</table>\n",
       "</div>"
      ],
      "text/plain": [
       "        columns  \\\n",
       "0  manufacturer   \n",
       "1  condition      \n",
       "2  cylinders      \n",
       "3  fuel           \n",
       "4  title_status   \n",
       "5  transmission   \n",
       "6  drive          \n",
       "7  size           \n",
       "8  type           \n",
       "9  paint_color    \n",
       "\n",
       "                                                                                                                                                                                                                                                                                                                                                                                  values  \n",
       "0  [gmc, hyundai, toyota, mitsubishi, ford, chevrolet, ram, nan, buick, jeep, dodge, subaru, nissan, audi, rover, lexus, honda, chrysler, mini, pontiac, mercedes-benz, cadillac, bmw, kia, volvo, volkswagen, jaguar, acura, saturn, mazda, mercury, lincoln, infiniti, ferrari, fiat, tesla, land rover, harley-davidson, datsun, alfa-romeo, morgan, aston-martin, porche, hennessey]  \n",
       "1  [excellent, good, fair, nan, like new, salvage, new]                                                                                                                                                                                                                                                                                                                                   \n",
       "2  [8 cylinders, 4 cylinders, 6 cylinders, nan, 10 cylinders, 12 cylinders, 5 cylinders, 3 cylinders, other]                                                                                                                                                                                                                                                                              \n",
       "3  [gas, hybrid, diesel, other, electric, nan]                                                                                                                                                                                                                                                                                                                                            \n",
       "4  [clean, lien, rebuilt, salvage, missing, parts only, nan]                                                                                                                                                                                                                                                                                                                              \n",
       "5  [automatic, manual, other, nan]                                                                                                                                                                                                                                                                                                                                                        \n",
       "6  [4wd, fwd, rwd, nan]                                                                                                                                                                                                                                                                                                                                                                   \n",
       "7  [nan, mid-size, full-size, compact, sub-compact]                                                                                                                                                                                                                                                                                                                                       \n",
       "8  [nan, sedan, truck, SUV, other, mini-van, wagon, hatchback, coupe, pickup, convertible, van, bus, offroad]                                                                                                                                                                                                                                                                             \n",
       "9  [red, grey, blue, white, custom, silver, brown, black, nan, purple, green, orange, yellow]                                                                                                                                                                                                                                                                                             "
      ]
     },
     "execution_count": 17,
     "metadata": {},
     "output_type": "execute_result"
    }
   ],
   "source": [
    "#Finally we create a chart to understand better each feature's unique values\n",
    "chart = pd.DataFrame(columns = ['columns', 'values'])\n",
    "\n",
    "for i, j in test.items():\n",
    "    chart = chart.append({'columns': i, 'values': j.unique()}, \n",
    "                 ignore_index=True)\n",
    "#We use these options to show all values in the DataFrame\n",
    "pd.set_option('display.max_rows', None)\n",
    "pd.set_option('display.max_columns', None)\n",
    "pd.set_option('display.width', None)\n",
    "pd.set_option('display.max_colwidth', -1)\n",
    "chart"
   ]
  },
  {
   "cell_type": "code",
   "execution_count": 18,
   "metadata": {},
   "outputs": [],
   "source": [
    "pd.reset_option('display.max_rows', None)\n",
    "pd.reset_option('display.max_columns', None)\n",
    "pd.reset_option('display.width', None)\n",
    "pd.reset_option('display.max_colwidth', -1)"
   ]
  },
  {
   "cell_type": "code",
   "execution_count": 19,
   "metadata": {},
   "outputs": [],
   "source": [
    "#For starters, we will be using the column Description to fill the some missing data on other columns.\n",
    "#After using Description, we have no more need for this column so we drop it.\n",
    "import re\n",
    "\n",
    "manufacturer = '(gmc | hyundai | toyota | mitsubishi | ford | chevrolet | ram | buick | jeep | dodge | subaru | nissan | audi | rover  | lexus \\\n",
    "| honda | chrysler | mini | pontiac | mercedes-benz | cadillac | bmw | kia | volvo | volkswagen | jaguar | acura | saturn | mazda | \\\n",
    "mercury | lincoln | infiniti | ferrari | fiat | tesla | land rover | harley-davidson | datsun | alfa-romeo | morgan | aston-martin | porche \\\n",
    "| hennessey)'\n",
    "condition = '(excellent | good | fair | like new | salvage | new)'\n",
    "fuel = '(gas | hybrid | diesel |electric)'\n",
    "title_status = '(clean | lien | rebuilt | salvage | missing | parts only)'\n",
    "transmission = '(automatic | manual)'\n",
    "drive = '(4x4 | awd | fwd | rwd | 4wd)'\n",
    "size = '(mid-size | full-size | compact | sub-compact)'\n",
    "type_ = '(sedan | truck | SUV | mini-van | wagon | hatchback | coupe | pickup | convertible | van | bus | offroad)'\n",
    "paint_color = '(red | grey | blue | white | custom | silver | brown | black | purple | green | orange | yellow)'\n",
    "cylinders = '(\\s[1-9] cylinders? |\\s1[0-6]? cylinders?)'\n",
    "\n",
    "keys =    ['manufacturer', 'condition', 'fuel', 'title_status', 'transmission', 'drive','size', 'type', 'paint_color' , 'cylinders']\n",
    "columns = [ manufacturer,   condition,   fuel,  title_status, transmission ,drive, size, type_, paint_color,   cylinders]\n",
    "\n",
    "for i,column in zip(keys,columns):\n",
    "    database[i] = database[i].fillna(\n",
    "      database['description'].str.extract(column, flags=re.IGNORECASE, expand=False)).str.lower()\n",
    "\n",
    "database.drop('description', axis=1, inplace= True)"
   ]
  },
  {
   "cell_type": "code",
   "execution_count": 20,
   "metadata": {},
   "outputs": [
    {
     "name": "stderr",
     "output_type": "stream",
     "text": [
      "<ipython-input-20-d256a4e9844a>:14: FutureWarning: Passing a negative integer is deprecated in version 1.0 and will not be supported in future version. Instead, use None to not limit the column width.\n",
      "  pd.set_option('display.max_colwidth', -1)\n"
     ]
    },
    {
     "data": {
      "text/html": [
       "<div>\n",
       "<style scoped>\n",
       "    .dataframe tbody tr th:only-of-type {\n",
       "        vertical-align: middle;\n",
       "    }\n",
       "\n",
       "    .dataframe tbody tr th {\n",
       "        vertical-align: top;\n",
       "    }\n",
       "\n",
       "    .dataframe thead th {\n",
       "        text-align: right;\n",
       "    }\n",
       "</style>\n",
       "<table border=\"1\" class=\"dataframe\">\n",
       "  <thead>\n",
       "    <tr style=\"text-align: right;\">\n",
       "      <th></th>\n",
       "      <th>columns</th>\n",
       "      <th>values</th>\n",
       "    </tr>\n",
       "  </thead>\n",
       "  <tbody>\n",
       "    <tr>\n",
       "      <th>0</th>\n",
       "      <td>manufacturer</td>\n",
       "      <td>[gmc, hyundai, toyota, mitsubishi, ford, chevrolet, ram, nan, buick, jeep, dodge, subaru, nissan, audi, rover, lexus, honda,  ford , chrysler, mini, pontiac, mercedes-benz, cadillac, bmw,  ram , kia, volvo, volkswagen, jaguar, acura, saturn, mazda, mercury,  dodge , lincoln, infiniti, ferrari,  bmw ,  buick , fiat,  jeep ,  jaguar ,  hyundai ,  mazda ,  mercedes-benz , tesla,  chevrolet ,  honda ,  nissan ,  mini ,  land rover ,  acura ,  toyota ,  chrysler ,  infiniti ,  lexus ,  volkswagen ,  volvo ,  subaru ,  audi ,  lincoln , gmc ,  ferrari ,  morgan ,  cadillac , land rover,  kia , harley-davidson, datsun, alfa-romeo, morgan, aston-martin,  pontiac ,  mitsubishi ,  fiat ,  mercury ,  porche , porche,  saturn ,  tesla , hennessey]</td>\n",
       "    </tr>\n",
       "    <tr>\n",
       "      <th>1</th>\n",
       "      <td>condition</td>\n",
       "      <td>[excellent, good, fair,  new, nan,  good ,  salvage , like new, excellent , salvage,  like new ,  fair , new]</td>\n",
       "    </tr>\n",
       "    <tr>\n",
       "      <th>2</th>\n",
       "      <td>cylinders</td>\n",
       "      <td>[8 cylinders, 4 cylinders, 6 cylinders, nan,  4 cylinder ,  6 cylinder , 10 cylinders, 12 cylinders, 5 cylinders,  6 cylinders , 3 cylinders,  8 cylinder ,  3 cylinder , other,  4 cylinders ,  8 cylinders ,  5 cylinder ,  10 cylinder,  5 cylinders ,  7 cylinder ,  10 cylinders,  4 cylinders ,  2 cylinder ,  12 cylinder,  3 cylinders ,  4 cylinder ,  12 cylinders,  8 cylinder , \\t8 cylinder , \\t4 cylinder ]</td>\n",
       "    </tr>\n",
       "    <tr>\n",
       "      <th>3</th>\n",
       "      <td>fuel</td>\n",
       "      <td>[gas, hybrid, diesel, other, electric, nan, gas ,  hybrid ,  diesel ]</td>\n",
       "    </tr>\n",
       "    <tr>\n",
       "      <th>4</th>\n",
       "      <td>title_status</td>\n",
       "      <td>[clean, lien, rebuilt, salvage, missing, parts only, nan, clean ,  rebuilt ,  salvage ,  missing ]</td>\n",
       "    </tr>\n",
       "    <tr>\n",
       "      <th>5</th>\n",
       "      <td>transmission</td>\n",
       "      <td>[automatic, manual, other, nan,  manual, automatic ]</td>\n",
       "    </tr>\n",
       "    <tr>\n",
       "      <th>6</th>\n",
       "      <td>drive</td>\n",
       "      <td>[4wd, fwd, rwd,  4wd, nan, 4x4 ,  awd ,  fwd ,  rwd ]</td>\n",
       "    </tr>\n",
       "    <tr>\n",
       "      <th>7</th>\n",
       "      <td>size</td>\n",
       "      <td>[nan, mid-size, full-size,  compact , compact, sub-compact,  full-size , mid-size ,  sub-compact]</td>\n",
       "    </tr>\n",
       "    <tr>\n",
       "      <th>8</th>\n",
       "      <td>type</td>\n",
       "      <td>[nan, sedan, truck, suv, other,  truck ,  suv ,  van , mini-van, wagon, hatchback, coupe, pickup, sedan , convertible,  hatchback , van,  coupe ,  wagon ,  convertible ,  pickup ,  offroad, bus,  bus , offroad,  mini-van ]</td>\n",
       "    </tr>\n",
       "    <tr>\n",
       "      <th>9</th>\n",
       "      <td>paint_color</td>\n",
       "      <td>[red, grey, blue, white, custom, silver, brown, black,  silver , nan, purple,  custom ,  black ,  blue ,  grey , red ,  brown , green, orange,  white , yellow,  green ,  yellow,  orange ,  purple ]</td>\n",
       "    </tr>\n",
       "  </tbody>\n",
       "</table>\n",
       "</div>"
      ],
      "text/plain": [
       "        columns  \\\n",
       "0  manufacturer   \n",
       "1  condition      \n",
       "2  cylinders      \n",
       "3  fuel           \n",
       "4  title_status   \n",
       "5  transmission   \n",
       "6  drive          \n",
       "7  size           \n",
       "8  type           \n",
       "9  paint_color    \n",
       "\n",
       "                                                                                                                                                                                                                                                                                                                                                                                                                                                                                                                                                                                                                                                                                                                                                                      values  \n",
       "0  [gmc, hyundai, toyota, mitsubishi, ford, chevrolet, ram, nan, buick, jeep, dodge, subaru, nissan, audi, rover, lexus, honda,  ford , chrysler, mini, pontiac, mercedes-benz, cadillac, bmw,  ram , kia, volvo, volkswagen, jaguar, acura, saturn, mazda, mercury,  dodge , lincoln, infiniti, ferrari,  bmw ,  buick , fiat,  jeep ,  jaguar ,  hyundai ,  mazda ,  mercedes-benz , tesla,  chevrolet ,  honda ,  nissan ,  mini ,  land rover ,  acura ,  toyota ,  chrysler ,  infiniti ,  lexus ,  volkswagen ,  volvo ,  subaru ,  audi ,  lincoln , gmc ,  ferrari ,  morgan ,  cadillac , land rover,  kia , harley-davidson, datsun, alfa-romeo, morgan, aston-martin,  pontiac ,  mitsubishi ,  fiat ,  mercury ,  porche , porche,  saturn ,  tesla , hennessey]  \n",
       "1  [excellent, good, fair,  new, nan,  good ,  salvage , like new, excellent , salvage,  like new ,  fair , new]                                                                                                                                                                                                                                                                                                                                                                                                                                                                                                                                                                                                                                                              \n",
       "2  [8 cylinders, 4 cylinders, 6 cylinders, nan,  4 cylinder ,  6 cylinder , 10 cylinders, 12 cylinders, 5 cylinders,  6 cylinders , 3 cylinders,  8 cylinder ,  3 cylinder , other,  4 cylinders ,  8 cylinders ,  5 cylinder ,  10 cylinder,  5 cylinders ,  7 cylinder ,  10 cylinders,  4 cylinders ,  2 cylinder ,  12 cylinder,  3 cylinders ,  4 cylinder ,  12 cylinders,  8 cylinder , \\t8 cylinder , \\t4 cylinder ]                                                                                                                                                                                                                                                                                                                                                  \n",
       "3  [gas, hybrid, diesel, other, electric, nan, gas ,  hybrid ,  diesel ]                                                                                                                                                                                                                                                                                                                                                                                                                                                                                                                                                                                                                                                                                                      \n",
       "4  [clean, lien, rebuilt, salvage, missing, parts only, nan, clean ,  rebuilt ,  salvage ,  missing ]                                                                                                                                                                                                                                                                                                                                                                                                                                                                                                                                                                                                                                                                         \n",
       "5  [automatic, manual, other, nan,  manual, automatic ]                                                                                                                                                                                                                                                                                                                                                                                                                                                                                                                                                                                                                                                                                                                       \n",
       "6  [4wd, fwd, rwd,  4wd, nan, 4x4 ,  awd ,  fwd ,  rwd ]                                                                                                                                                                                                                                                                                                                                                                                                                                                                                                                                                                                                                                                                                                                      \n",
       "7  [nan, mid-size, full-size,  compact , compact, sub-compact,  full-size , mid-size ,  sub-compact]                                                                                                                                                                                                                                                                                                                                                                                                                                                                                                                                                                                                                                                                          \n",
       "8  [nan, sedan, truck, suv, other,  truck ,  suv ,  van , mini-van, wagon, hatchback, coupe, pickup, sedan , convertible,  hatchback , van,  coupe ,  wagon ,  convertible ,  pickup ,  offroad, bus,  bus , offroad,  mini-van ]                                                                                                                                                                                                                                                                                                                                                                                                                                                                                                                                             \n",
       "9  [red, grey, blue, white, custom, silver, brown, black,  silver , nan, purple,  custom ,  black ,  blue ,  grey , red ,  brown , green, orange,  white , yellow,  green ,  yellow,  orange ,  purple ]                                                                                                                                                                                                                                                                                                                                                                                                                                                                                                                                                                      "
      ]
     },
     "execution_count": 20,
     "metadata": {},
     "output_type": "execute_result"
    }
   ],
   "source": [
    "#And, we check again each unique values for the columns we modified.\n",
    "test = database[['manufacturer', 'condition',\n",
    "       'cylinders', 'fuel', 'title_status', 'transmission',\n",
    "       'drive', 'size', 'type', 'paint_color']]\n",
    "chart = pd.DataFrame(columns = ['columns', 'values'])\n",
    "\n",
    "for i, j in test.items():\n",
    "    chart = chart.append({'columns': i, 'values': j.unique()}, \n",
    "                 ignore_index=True)\n",
    "\n",
    "pd.set_option('display.max_rows', None)\n",
    "pd.set_option('display.max_columns', None)\n",
    "pd.set_option('display.width', None)\n",
    "pd.set_option('display.max_colwidth', -1)\n",
    "chart"
   ]
  },
  {
   "cell_type": "code",
   "execution_count": 21,
   "metadata": {},
   "outputs": [],
   "source": [
    "pd.reset_option('display.max_rows', None)\n",
    "pd.reset_option('display.max_columns', None)\n",
    "pd.reset_option('display.width', None)\n",
    "pd.reset_option('display.max_colwidth', -1)"
   ]
  },
  {
   "cell_type": "code",
   "execution_count": 22,
   "metadata": {},
   "outputs": [],
   "source": [
    "##We need to take care of some things now: \n",
    "#Inconsistent data entry. \n",
    "columns = ['manufacturer', 'condition',\n",
    "       'cylinders', 'fuel', 'title_status', 'transmission',\n",
    "       'drive', 'size', 'type', 'paint_color']\n",
    "for i in columns: \n",
    "    database[i] = database[i].str.strip()"
   ]
  },
  {
   "cell_type": "code",
   "execution_count": 23,
   "metadata": {},
   "outputs": [
    {
     "data": {
      "text/plain": [
       "array(['8 cylinders', '4 cylinders', '6 cylinders', nan, '4 cylinder',\n",
       "       '6 cylinder', '10 cylinders', '12 cylinders', '5 cylinders',\n",
       "       '3 cylinders', '8 cylinder', '3 cylinder', 'other', '5 cylinder',\n",
       "       '10 cylinder', '7 cylinder', '2 cylinder', '12 cylinder'],\n",
       "      dtype=object)"
      ]
     },
     "execution_count": 23,
     "metadata": {},
     "output_type": "execute_result"
    }
   ],
   "source": [
    "database['cylinders'].unique()"
   ]
  },
  {
   "cell_type": "code",
   "execution_count": 24,
   "metadata": {},
   "outputs": [
    {
     "data": {
      "text/plain": [
       "array(['8 cylinders', '4 cylinders', '6 cylinders', nan, '10 cylinders',\n",
       "       '12 cylinders', '5 cylinders', '3 cylinders', 'other',\n",
       "       '7 cylinders', '2 cylinders'], dtype=object)"
      ]
     },
     "execution_count": 24,
     "metadata": {},
     "output_type": "execute_result"
    }
   ],
   "source": [
    "values = {\"4 cylinder\" : \"4 cylinders\",\n",
    "         \"6 cylinder\" : \"6 cylinders\",\n",
    "         \"8 cylinder\" : \"8 cylinders\",\n",
    "         \"3 cylinder\" : \"3 cylinders\",\n",
    "         \"5 cylinder\" : \"5 cylinders\",\n",
    "         \"10 cylinder\": \"10 cylinders\",\n",
    "         \"7 cylinder\" : \"7 cylinders\",\n",
    "         \"2 cylinder\": '2 cylinders',\n",
    "         \"12 cylinder\": \"12 cylinders\"}\n",
    "for i,j in values.items():\n",
    "    database.replace(to_replace=i, value=j, inplace=True)\n",
    "database['cylinders'].unique()"
   ]
  },
  {
   "cell_type": "code",
   "execution_count": 25,
   "metadata": {},
   "outputs": [
    {
     "data": {
      "text/html": [
       "<div>\n",
       "<style scoped>\n",
       "    .dataframe tbody tr th:only-of-type {\n",
       "        vertical-align: middle;\n",
       "    }\n",
       "\n",
       "    .dataframe tbody tr th {\n",
       "        vertical-align: top;\n",
       "    }\n",
       "\n",
       "    .dataframe thead th {\n",
       "        text-align: right;\n",
       "    }\n",
       "</style>\n",
       "<table border=\"1\" class=\"dataframe\">\n",
       "  <thead>\n",
       "    <tr style=\"text-align: right;\">\n",
       "      <th></th>\n",
       "      <th>Null</th>\n",
       "      <th>Percentage</th>\n",
       "    </tr>\n",
       "  </thead>\n",
       "  <tbody>\n",
       "    <tr>\n",
       "      <th>size</th>\n",
       "      <td>241943</td>\n",
       "      <td>68.3</td>\n",
       "    </tr>\n",
       "    <tr>\n",
       "      <th>cylinders</th>\n",
       "      <td>160239</td>\n",
       "      <td>45.3</td>\n",
       "    </tr>\n",
       "    <tr>\n",
       "      <th>drive</th>\n",
       "      <td>113414</td>\n",
       "      <td>32.0</td>\n",
       "    </tr>\n",
       "    <tr>\n",
       "      <th>condition</th>\n",
       "      <td>112516</td>\n",
       "      <td>31.8</td>\n",
       "    </tr>\n",
       "    <tr>\n",
       "      <th>odometer</th>\n",
       "      <td>100417</td>\n",
       "      <td>28.4</td>\n",
       "    </tr>\n",
       "    <tr>\n",
       "      <th>type</th>\n",
       "      <td>98736</td>\n",
       "      <td>27.9</td>\n",
       "    </tr>\n",
       "    <tr>\n",
       "      <th>paint_color</th>\n",
       "      <td>93080</td>\n",
       "      <td>26.3</td>\n",
       "    </tr>\n",
       "    <tr>\n",
       "      <th>manufacturer</th>\n",
       "      <td>58969</td>\n",
       "      <td>16.7</td>\n",
       "    </tr>\n",
       "    <tr>\n",
       "      <th>model</th>\n",
       "      <td>52469</td>\n",
       "      <td>14.8</td>\n",
       "    </tr>\n",
       "    <tr>\n",
       "      <th>fuel</th>\n",
       "      <td>50079</td>\n",
       "      <td>14.1</td>\n",
       "    </tr>\n",
       "    <tr>\n",
       "      <th>title_status</th>\n",
       "      <td>49787</td>\n",
       "      <td>14.1</td>\n",
       "    </tr>\n",
       "    <tr>\n",
       "      <th>transmission</th>\n",
       "      <td>49669</td>\n",
       "      <td>14.0</td>\n",
       "    </tr>\n",
       "    <tr>\n",
       "      <th>year</th>\n",
       "      <td>49388</td>\n",
       "      <td>13.9</td>\n",
       "    </tr>\n",
       "    <tr>\n",
       "      <th>region</th>\n",
       "      <td>0</td>\n",
       "      <td>0.0</td>\n",
       "    </tr>\n",
       "    <tr>\n",
       "      <th>price</th>\n",
       "      <td>0</td>\n",
       "      <td>0.0</td>\n",
       "    </tr>\n",
       "    <tr>\n",
       "      <th>state</th>\n",
       "      <td>0</td>\n",
       "      <td>0.0</td>\n",
       "    </tr>\n",
       "  </tbody>\n",
       "</table>\n",
       "</div>"
      ],
      "text/plain": [
       "                Null  Percentage\n",
       "size          241943        68.3\n",
       "cylinders     160239        45.3\n",
       "drive         113414        32.0\n",
       "condition     112516        31.8\n",
       "odometer      100417        28.4\n",
       "type           98736        27.9\n",
       "paint_color    93080        26.3\n",
       "manufacturer   58969        16.7\n",
       "model          52469        14.8\n",
       "fuel           50079        14.1\n",
       "title_status   49787        14.1\n",
       "transmission   49669        14.0\n",
       "year           49388        13.9\n",
       "region             0         0.0\n",
       "price              0         0.0\n",
       "state              0         0.0"
      ]
     },
     "execution_count": 25,
     "metadata": {},
     "output_type": "execute_result"
    }
   ],
   "source": [
    "#We check again NaN values \n",
    "missing_values_count = pd.DataFrame({'Null': database.isnull().sum()})\n",
    "total = len(database)\n",
    "percentage_null = round((missing_values_count['Null']/total)*100,1)\n",
    "missing_values_count['Percentage'] = percentage_null\n",
    "missing_values_count.sort_values(by= 'Null' , ascending = False)"
   ]
  },
  {
   "cell_type": "markdown",
   "metadata": {},
   "source": [
    "### Handling Outliers"
   ]
  },
  {
   "cell_type": "code",
   "execution_count": 26,
   "metadata": {
    "scrolled": true
   },
   "outputs": [
    {
     "data": {
      "text/plain": [
       "<matplotlib.axes._subplots.AxesSubplot at 0x7fea9fa374c0>"
      ]
     },
     "execution_count": 26,
     "metadata": {},
     "output_type": "execute_result"
    },
    {
     "data": {
      "image/png": "[encoded data removed]",
      "text/plain": [
       "<Figure size 720x360 with 2 Axes>"
      ]
     },
     "metadata": {
      "needs_background": "light"
     },
     "output_type": "display_data"
    }
   ],
   "source": [
    "#We are going to handle those outliers of odometer and price we saw before in the description\n",
    "#First we will visualize them\n",
    "plt.figure(figsize=[10,5])\n",
    "plt.subplot(121)\n",
    "sns.distplot(database['price'], bins = 5)\n",
    "plt.subplot(122)\n",
    "sns.distplot(database['odometer'], bins = 5)"
   ]
  },
  {
   "cell_type": "code",
   "execution_count": 27,
   "metadata": {},
   "outputs": [
    {
     "data": {
      "text/plain": [
       "<matplotlib.axes._subplots.AxesSubplot at 0x7fea88466040>"
      ]
     },
     "execution_count": 27,
     "metadata": {},
     "output_type": "execute_result"
    },
    {
     "data": {
      "image/png": "[encoded data removed]",
      "text/plain": [
       "<Figure size 360x360 with 2 Axes>"
      ]
     },
     "metadata": {
      "needs_background": "light"
     },
     "output_type": "display_data"
    }
   ],
   "source": [
    "#Another type of visualization to check on the outliers\n",
    "plt.figure(figsize=[5,5])\n",
    "plt.subplot(211)\n",
    "sns.boxplot(x=database['price'])\n",
    "plt.subplot(212)\n",
    "sns.boxplot(x=database['odometer'])"
   ]
  },
  {
   "cell_type": "code",
   "execution_count": 28,
   "metadata": {},
   "outputs": [
    {
     "name": "stdout",
     "output_type": "stream",
     "text": [
      "800.0 32254.20000000007\n"
     ]
    }
   ],
   "source": [
    "#First we will drop the 10% of each side on price\n",
    "rr=sorted(database[\"price\"])\n",
    "quantile1, quantile2= np.percentile(rr,[10,90])\n",
    "print(quantile1,quantile2)"
   ]
  },
  {
   "cell_type": "code",
   "execution_count": 29,
   "metadata": {},
   "outputs": [
    {
     "data": {
      "text/plain": [
       "(283728, 16)"
      ]
     },
     "execution_count": 29,
     "metadata": {},
     "output_type": "execute_result"
    }
   ],
   "source": [
    "database=database[(database.price <= 32254.20000000007) \n",
    "                  & (database.price >= 800.0)]\n",
    "database.shape"
   ]
  },
  {
   "cell_type": "code",
   "execution_count": 30,
   "metadata": {
    "scrolled": false
   },
   "outputs": [
    {
     "data": {
      "image/png": "[encoded data removed]",
      "text/plain": [
       "<Figure size 504x360 with 1 Axes>"
      ]
     },
     "metadata": {
      "needs_background": "light"
     },
     "output_type": "display_data"
    }
   ],
   "source": [
    "#Now we handle odometer.\n",
    "#Since there are null values we cannot do what we did with price.\n",
    "#We use scatterplot to visually check the outliers.\n",
    "plt.figure(figsize=[7,5])\n",
    "ax = sns.scatterplot(x = database['odometer'], y= database['price'])\n",
    "ax.get_xaxis().get_major_formatter().set_scientific(False)\n",
    "ax.get_yaxis().get_major_formatter().set_scientific(False)"
   ]
  },
  {
   "cell_type": "code",
   "execution_count": 31,
   "metadata": {},
   "outputs": [],
   "source": [
    "#We will take values up until 3,000,000.\n",
    "database=database[(database.odometer < 3000000)]"
   ]
  },
  {
   "cell_type": "code",
   "execution_count": 32,
   "metadata": {},
   "outputs": [],
   "source": [
    "#Also we will be deleting the values equal to 0\n",
    "database.drop(database[database[\"odometer\"]==0.0].index,inplace=True)"
   ]
  },
  {
   "cell_type": "code",
   "execution_count": 33,
   "metadata": {
    "scrolled": true
   },
   "outputs": [
    {
     "data": {
      "image/png": "[encoded data removed]",
      "text/plain": [
       "<Figure size 504x360 with 1 Axes>"
      ]
     },
     "metadata": {
      "needs_background": "light"
     },
     "output_type": "display_data"
    }
   ],
   "source": [
    "plt.figure(figsize=[7,5])\n",
    "ax = sns.scatterplot(x = database['odometer'], y= database['price'])\n",
    "ax.get_xaxis().get_major_formatter().set_scientific(False)\n",
    "ax.get_yaxis().get_major_formatter().set_scientific(False)"
   ]
  },
  {
   "cell_type": "code",
   "execution_count": 34,
   "metadata": {},
   "outputs": [
    {
     "data": {
      "text/plain": [
       "<matplotlib.axes._subplots.AxesSubplot at 0x7fea83fc7a30>"
      ]
     },
     "execution_count": 34,
     "metadata": {},
     "output_type": "execute_result"
    },
    {
     "data": {
      "image/png": "[encoded data removed]",
      "text/plain": [
       "<Figure size 360x360 with 2 Axes>"
      ]
     },
     "metadata": {
      "needs_background": "light"
     },
     "output_type": "display_data"
    }
   ],
   "source": [
    "#After handling the outliers\n",
    "plt.figure(figsize=[5,5])\n",
    "plt.subplot(211)\n",
    "sns.boxplot(x=database['price'])\n",
    "plt.subplot(212)\n",
    "sns.boxplot(x=database['odometer'])"
   ]
  },
  {
   "cell_type": "code",
   "execution_count": 35,
   "metadata": {},
   "outputs": [
    {
     "data": {
      "image/png": "[encoded data removed]",
      "text/plain": [
       "<Figure size 504x360 with 1 Axes>"
      ]
     },
     "metadata": {
      "needs_background": "light"
     },
     "output_type": "display_data"
    }
   ],
   "source": [
    "#Finally we deal with the outliers in year. Let's visualize them.\n",
    "plt.figure(figsize=[7,5])\n",
    "ax = sns.scatterplot(x = database['year'], y= database['price'])\n",
    "ax.get_xaxis().get_major_formatter().set_scientific(False)\n",
    "ax.get_yaxis().get_major_formatter().set_scientific(False)"
   ]
  },
  {
   "cell_type": "code",
   "execution_count": 36,
   "metadata": {
    "scrolled": true
   },
   "outputs": [
    {
     "data": {
      "text/plain": [
       "<matplotlib.axes._subplots.AxesSubplot at 0x7fea83e5eee0>"
      ]
     },
     "execution_count": 36,
     "metadata": {},
     "output_type": "execute_result"
    },
    {
     "data": {
      "image/png": "[encoded data removed]",
      "text/plain": [
       "<Figure size 432x288 with 1 Axes>"
      ]
     },
     "metadata": {
      "needs_background": "light"
     },
     "output_type": "display_data"
    }
   ],
   "source": [
    "#Another visualization\n",
    "sns.distplot(database['year'], bins = 1)"
   ]
  },
  {
   "cell_type": "code",
   "execution_count": 37,
   "metadata": {
    "scrolled": true
   },
   "outputs": [
    {
     "data": {
      "text/plain": [
       "region          0\n",
       "price           0\n",
       "year            0\n",
       "manufacturer    0\n",
       "model           0\n",
       "condition       0\n",
       "cylinders       0\n",
       "fuel            0\n",
       "odometer        0\n",
       "title_status    0\n",
       "transmission    0\n",
       "drive           0\n",
       "size            0\n",
       "type            0\n",
       "paint_color     0\n",
       "state           0\n",
       "dtype: int64"
      ]
     },
     "execution_count": 37,
     "metadata": {},
     "output_type": "execute_result"
    }
   ],
   "source": [
    "#We will be eliminating rows with the year 2021 and those with year <1946\n",
    "database[database['year'] == 1945].count()"
   ]
  },
  {
   "cell_type": "code",
   "execution_count": 38,
   "metadata": {
    "scrolled": true
   },
   "outputs": [],
   "source": [
    "database=database[(database.year > 1945 )]\n",
    "database.drop(database[database[\"year\"]==2021].index,inplace=True)"
   ]
  },
  {
   "cell_type": "code",
   "execution_count": 39,
   "metadata": {
    "scrolled": false
   },
   "outputs": [
    {
     "data": {
      "text/html": [
       "<div>\n",
       "<style scoped>\n",
       "    .dataframe tbody tr th:only-of-type {\n",
       "        vertical-align: middle;\n",
       "    }\n",
       "\n",
       "    .dataframe tbody tr th {\n",
       "        vertical-align: top;\n",
       "    }\n",
       "\n",
       "    .dataframe thead th {\n",
       "        text-align: right;\n",
       "    }\n",
       "</style>\n",
       "<table border=\"1\" class=\"dataframe\">\n",
       "  <thead>\n",
       "    <tr style=\"text-align: right;\">\n",
       "      <th></th>\n",
       "      <th>Null</th>\n",
       "      <th>Percentage</th>\n",
       "    </tr>\n",
       "  </thead>\n",
       "  <tbody>\n",
       "    <tr>\n",
       "      <th>size</th>\n",
       "      <td>120239</td>\n",
       "      <td>59.8</td>\n",
       "    </tr>\n",
       "    <tr>\n",
       "      <th>cylinders</th>\n",
       "      <td>59977</td>\n",
       "      <td>29.8</td>\n",
       "    </tr>\n",
       "    <tr>\n",
       "      <th>condition</th>\n",
       "      <td>36960</td>\n",
       "      <td>18.4</td>\n",
       "    </tr>\n",
       "    <tr>\n",
       "      <th>drive</th>\n",
       "      <td>32772</td>\n",
       "      <td>16.3</td>\n",
       "    </tr>\n",
       "    <tr>\n",
       "      <th>type</th>\n",
       "      <td>22911</td>\n",
       "      <td>11.4</td>\n",
       "    </tr>\n",
       "    <tr>\n",
       "      <th>paint_color</th>\n",
       "      <td>18997</td>\n",
       "      <td>9.5</td>\n",
       "    </tr>\n",
       "    <tr>\n",
       "      <th>manufacturer</th>\n",
       "      <td>4542</td>\n",
       "      <td>2.3</td>\n",
       "    </tr>\n",
       "    <tr>\n",
       "      <th>model</th>\n",
       "      <td>1599</td>\n",
       "      <td>0.8</td>\n",
       "    </tr>\n",
       "    <tr>\n",
       "      <th>fuel</th>\n",
       "      <td>973</td>\n",
       "      <td>0.5</td>\n",
       "    </tr>\n",
       "    <tr>\n",
       "      <th>title_status</th>\n",
       "      <td>832</td>\n",
       "      <td>0.4</td>\n",
       "    </tr>\n",
       "    <tr>\n",
       "      <th>transmission</th>\n",
       "      <td>729</td>\n",
       "      <td>0.4</td>\n",
       "    </tr>\n",
       "    <tr>\n",
       "      <th>region</th>\n",
       "      <td>0</td>\n",
       "      <td>0.0</td>\n",
       "    </tr>\n",
       "    <tr>\n",
       "      <th>price</th>\n",
       "      <td>0</td>\n",
       "      <td>0.0</td>\n",
       "    </tr>\n",
       "    <tr>\n",
       "      <th>year</th>\n",
       "      <td>0</td>\n",
       "      <td>0.0</td>\n",
       "    </tr>\n",
       "    <tr>\n",
       "      <th>odometer</th>\n",
       "      <td>0</td>\n",
       "      <td>0.0</td>\n",
       "    </tr>\n",
       "    <tr>\n",
       "      <th>state</th>\n",
       "      <td>0</td>\n",
       "      <td>0.0</td>\n",
       "    </tr>\n",
       "  </tbody>\n",
       "</table>\n",
       "</div>"
      ],
      "text/plain": [
       "                Null  Percentage\n",
       "size          120239        59.8\n",
       "cylinders      59977        29.8\n",
       "condition      36960        18.4\n",
       "drive          32772        16.3\n",
       "type           22911        11.4\n",
       "paint_color    18997         9.5\n",
       "manufacturer    4542         2.3\n",
       "model           1599         0.8\n",
       "fuel             973         0.5\n",
       "title_status     832         0.4\n",
       "transmission     729         0.4\n",
       "region             0         0.0\n",
       "price              0         0.0\n",
       "year               0         0.0\n",
       "odometer           0         0.0\n",
       "state              0         0.0"
      ]
     },
     "execution_count": 39,
     "metadata": {},
     "output_type": "execute_result"
    }
   ],
   "source": [
    "#Let's check NaN values again\n",
    "missing_values_count = pd.DataFrame({'Null': database.isnull().sum()})\n",
    "total = len(database)\n",
    "percentage_null = round((missing_values_count['Null']/total)*100,1)\n",
    "missing_values_count['Percentage'] = percentage_null\n",
    "missing_values_count.sort_values(by= 'Null' , ascending = False)"
   ]
  },
  {
   "cell_type": "markdown",
   "metadata": {},
   "source": [
    "### Condition - Status - Odometer"
   ]
  },
  {
   "cell_type": "code",
   "execution_count": 40,
   "metadata": {},
   "outputs": [
    {
     "data": {
      "text/plain": [
       "(200483, 16)"
      ]
     },
     "execution_count": 40,
     "metadata": {},
     "output_type": "execute_result"
    }
   ],
   "source": [
    "#We will first drop the unusable rows of status and condition\n",
    "drop = database.loc[database.title_status.isnull() & database.condition.isnull()] #unusable rows\n",
    "database = database.loc[database.title_status.isnull() & database.condition.notnull() \n",
    "                        | database.title_status.notnull() & database.condition.isnull() \n",
    "                         | database.title_status.notnull() & database.condition.notnull()] #the dataframe with the usable rows\n",
    "database.shape"
   ]
  },
  {
   "cell_type": "code",
   "execution_count": 41,
   "metadata": {},
   "outputs": [
    {
     "data": {
      "text/plain": [
       "odometer\n",
       "(0, 30000]            21852\n",
       "(30000, 60000]        30166\n",
       "(60000, 90000]        33104\n",
       "(90000, 115000]       31193\n",
       "(115000, 150000]      38307\n",
       "(150000, 10000000]    45537\n",
       "Name: title_status, dtype: int64"
      ]
     },
     "execution_count": 41,
     "metadata": {},
     "output_type": "execute_result"
    }
   ],
   "source": [
    "# I believe these 3 columns have a relationship so I will use odometer to infer their values\n",
    "#First we want to create bins to contain the values of the odometer\n",
    "bins = [0, 30000, 60000, 90000,115000, 150000,10000000]\n",
    "groups = database.groupby(pd.cut(database.odometer, bins))\n",
    "groups.title_status.count()"
   ]
  },
  {
   "cell_type": "code",
   "execution_count": 42,
   "metadata": {
    "scrolled": true
   },
   "outputs": [
    {
     "data": {
      "text/html": [
       "<div>\n",
       "<style scoped>\n",
       "    .dataframe tbody tr th:only-of-type {\n",
       "        vertical-align: middle;\n",
       "    }\n",
       "\n",
       "    .dataframe tbody tr th {\n",
       "        vertical-align: top;\n",
       "    }\n",
       "\n",
       "    .dataframe thead th {\n",
       "        text-align: right;\n",
       "    }\n",
       "</style>\n",
       "<table border=\"1\" class=\"dataframe\">\n",
       "  <thead>\n",
       "    <tr style=\"text-align: right;\">\n",
       "      <th>odometer</th>\n",
       "      <th>(0, 30000]</th>\n",
       "      <th>(30000, 60000]</th>\n",
       "      <th>(60000, 90000]</th>\n",
       "      <th>(90000, 115000]</th>\n",
       "      <th>(115000, 150000]</th>\n",
       "      <th>(150000, 10000000]</th>\n",
       "    </tr>\n",
       "    <tr>\n",
       "      <th>title_status</th>\n",
       "      <th></th>\n",
       "      <th></th>\n",
       "      <th></th>\n",
       "      <th></th>\n",
       "      <th></th>\n",
       "      <th></th>\n",
       "    </tr>\n",
       "  </thead>\n",
       "  <tbody>\n",
       "    <tr>\n",
       "      <th>clean</th>\n",
       "      <td>20487</td>\n",
       "      <td>28516</td>\n",
       "      <td>31353</td>\n",
       "      <td>30154</td>\n",
       "      <td>37249</td>\n",
       "      <td>44333</td>\n",
       "    </tr>\n",
       "    <tr>\n",
       "      <th>lien</th>\n",
       "      <td>182</td>\n",
       "      <td>267</td>\n",
       "      <td>304</td>\n",
       "      <td>183</td>\n",
       "      <td>186</td>\n",
       "      <td>175</td>\n",
       "    </tr>\n",
       "    <tr>\n",
       "      <th>missing</th>\n",
       "      <td>18</td>\n",
       "      <td>21</td>\n",
       "      <td>26</td>\n",
       "      <td>22</td>\n",
       "      <td>22</td>\n",
       "      <td>50</td>\n",
       "    </tr>\n",
       "    <tr>\n",
       "      <th>parts only</th>\n",
       "      <td>4</td>\n",
       "      <td>3</td>\n",
       "      <td>7</td>\n",
       "      <td>6</td>\n",
       "      <td>2</td>\n",
       "      <td>19</td>\n",
       "    </tr>\n",
       "    <tr>\n",
       "      <th>rebuilt</th>\n",
       "      <td>779</td>\n",
       "      <td>972</td>\n",
       "      <td>993</td>\n",
       "      <td>569</td>\n",
       "      <td>524</td>\n",
       "      <td>515</td>\n",
       "    </tr>\n",
       "    <tr>\n",
       "      <th>salvage</th>\n",
       "      <td>382</td>\n",
       "      <td>387</td>\n",
       "      <td>421</td>\n",
       "      <td>259</td>\n",
       "      <td>324</td>\n",
       "      <td>445</td>\n",
       "    </tr>\n",
       "  </tbody>\n",
       "</table>\n",
       "</div>"
      ],
      "text/plain": [
       "odometer      (0, 30000]  (30000, 60000]  (60000, 90000]  (90000, 115000]  \\\n",
       "title_status                                                                \n",
       "clean              20487           28516           31353            30154   \n",
       "lien                 182             267             304              183   \n",
       "missing               18              21              26               22   \n",
       "parts only             4               3               7                6   \n",
       "rebuilt              779             972             993              569   \n",
       "salvage              382             387             421              259   \n",
       "\n",
       "odometer      (115000, 150000]  (150000, 10000000]  \n",
       "title_status                                        \n",
       "clean                    37249               44333  \n",
       "lien                       186                 175  \n",
       "missing                     22                  50  \n",
       "parts only                   2                  19  \n",
       "rebuilt                    524                 515  \n",
       "salvage                    324                 445  "
      ]
     },
     "execution_count": 42,
     "metadata": {},
     "output_type": "execute_result"
    }
   ],
   "source": [
    "#\"title_status\" doesn't bring us that much of a value since most values are \"clean\".\n",
    "bins = [0, 30000, 60000, 90000,115000, 150000,10000000]\n",
    "groups = database.groupby(['title_status', pd.cut(database.odometer, bins)])\n",
    "groups.size().unstack()"
   ]
  },
  {
   "cell_type": "code",
   "execution_count": 43,
   "metadata": {},
   "outputs": [],
   "source": [
    "#Thus we will add \"clean\" to the NaN values\n",
    "database.title_status.fillna(\"clean\", inplace=True)"
   ]
  },
  {
   "cell_type": "code",
   "execution_count": 44,
   "metadata": {
    "scrolled": true
   },
   "outputs": [
    {
     "data": {
      "text/html": [
       "<div>\n",
       "<style scoped>\n",
       "    .dataframe tbody tr th:only-of-type {\n",
       "        vertical-align: middle;\n",
       "    }\n",
       "\n",
       "    .dataframe tbody tr th {\n",
       "        vertical-align: top;\n",
       "    }\n",
       "\n",
       "    .dataframe thead th {\n",
       "        text-align: right;\n",
       "    }\n",
       "</style>\n",
       "<table border=\"1\" class=\"dataframe\">\n",
       "  <thead>\n",
       "    <tr style=\"text-align: right;\">\n",
       "      <th>odometer</th>\n",
       "      <th>(0, 30000]</th>\n",
       "      <th>(30000, 60000]</th>\n",
       "      <th>(60000, 90000]</th>\n",
       "      <th>(90000, 115000]</th>\n",
       "      <th>(115000, 150000]</th>\n",
       "      <th>(150000, 10000000]</th>\n",
       "    </tr>\n",
       "    <tr>\n",
       "      <th>condition</th>\n",
       "      <th></th>\n",
       "      <th></th>\n",
       "      <th></th>\n",
       "      <th></th>\n",
       "      <th></th>\n",
       "      <th></th>\n",
       "    </tr>\n",
       "  </thead>\n",
       "  <tbody>\n",
       "    <tr>\n",
       "      <th>excellent</th>\n",
       "      <td>4772</td>\n",
       "      <td>8277</td>\n",
       "      <td>11237</td>\n",
       "      <td>11293</td>\n",
       "      <td>13310</td>\n",
       "      <td>12473</td>\n",
       "    </tr>\n",
       "    <tr>\n",
       "      <th>fair</th>\n",
       "      <td>425</td>\n",
       "      <td>482</td>\n",
       "      <td>532</td>\n",
       "      <td>546</td>\n",
       "      <td>1008</td>\n",
       "      <td>3065</td>\n",
       "    </tr>\n",
       "    <tr>\n",
       "      <th>good</th>\n",
       "      <td>6637</td>\n",
       "      <td>8444</td>\n",
       "      <td>9157</td>\n",
       "      <td>8844</td>\n",
       "      <td>11619</td>\n",
       "      <td>17517</td>\n",
       "    </tr>\n",
       "    <tr>\n",
       "      <th>like new</th>\n",
       "      <td>2231</td>\n",
       "      <td>2396</td>\n",
       "      <td>2119</td>\n",
       "      <td>1600</td>\n",
       "      <td>1710</td>\n",
       "      <td>1231</td>\n",
       "    </tr>\n",
       "    <tr>\n",
       "      <th>new</th>\n",
       "      <td>4065</td>\n",
       "      <td>4867</td>\n",
       "      <td>3912</td>\n",
       "      <td>3103</td>\n",
       "      <td>3248</td>\n",
       "      <td>3326</td>\n",
       "    </tr>\n",
       "    <tr>\n",
       "      <th>salvage</th>\n",
       "      <td>83</td>\n",
       "      <td>73</td>\n",
       "      <td>87</td>\n",
       "      <td>75</td>\n",
       "      <td>91</td>\n",
       "      <td>176</td>\n",
       "    </tr>\n",
       "  </tbody>\n",
       "</table>\n",
       "</div>"
      ],
      "text/plain": [
       "odometer   (0, 30000]  (30000, 60000]  (60000, 90000]  (90000, 115000]  \\\n",
       "condition                                                                \n",
       "excellent        4772            8277           11237            11293   \n",
       "fair              425             482             532              546   \n",
       "good             6637            8444            9157             8844   \n",
       "like new         2231            2396            2119             1600   \n",
       "new              4065            4867            3912             3103   \n",
       "salvage            83              73              87               75   \n",
       "\n",
       "odometer   (115000, 150000]  (150000, 10000000]  \n",
       "condition                                        \n",
       "excellent             13310               12473  \n",
       "fair                   1008                3065  \n",
       "good                  11619               17517  \n",
       "like new               1710                1231  \n",
       "new                    3248                3326  \n",
       "salvage                  91                 176  "
      ]
     },
     "execution_count": 44,
     "metadata": {},
     "output_type": "execute_result"
    }
   ],
   "source": [
    "#Now we compare odometer and condition\n",
    "#Makes no sense to compare condition and title_status since most of the values are \"clean\"\n",
    "bins = [0, 30000, 60000, 90000,115000, 150000,10000000]\n",
    "groups = database.groupby(['condition', pd.cut(database.odometer, bins)])\n",
    "groups.size().unstack()"
   ]
  },
  {
   "cell_type": "code",
   "execution_count": 45,
   "metadata": {},
   "outputs": [],
   "source": [
    "#Now we add values to those NaN in \"condition\" using odometer range of values\n",
    "\n",
    "m1 = (database['odometer'] > 60000) & (database['odometer'] <= 150000)\n",
    "m2 = (database['odometer'] <= 60000) | (database['odometer'] > 150000)\n",
    "\n",
    "database.loc[m1,'condition'] = database.loc[m1,'condition'].fillna('excellent')\n",
    "database.loc[m2,'condition'] = database.loc[m2,'condition'].fillna(\"good\")"
   ]
  },
  {
   "cell_type": "code",
   "execution_count": 46,
   "metadata": {
    "scrolled": true
   },
   "outputs": [
    {
     "data": {
      "text/html": [
       "<div>\n",
       "<style scoped>\n",
       "    .dataframe tbody tr th:only-of-type {\n",
       "        vertical-align: middle;\n",
       "    }\n",
       "\n",
       "    .dataframe tbody tr th {\n",
       "        vertical-align: top;\n",
       "    }\n",
       "\n",
       "    .dataframe thead th {\n",
       "        text-align: right;\n",
       "    }\n",
       "</style>\n",
       "<table border=\"1\" class=\"dataframe\">\n",
       "  <thead>\n",
       "    <tr style=\"text-align: right;\">\n",
       "      <th></th>\n",
       "      <th>region</th>\n",
       "      <th>price</th>\n",
       "      <th>year</th>\n",
       "      <th>manufacturer</th>\n",
       "      <th>model</th>\n",
       "      <th>cylinders</th>\n",
       "      <th>fuel</th>\n",
       "      <th>odometer</th>\n",
       "      <th>transmission</th>\n",
       "      <th>drive</th>\n",
       "      <th>size</th>\n",
       "      <th>type</th>\n",
       "      <th>paint_color</th>\n",
       "      <th>state</th>\n",
       "      <th>status</th>\n",
       "    </tr>\n",
       "  </thead>\n",
       "  <tbody>\n",
       "    <tr>\n",
       "      <th>0</th>\n",
       "      <td>duluth / superior</td>\n",
       "      <td>6995</td>\n",
       "      <td>2000.0</td>\n",
       "      <td>gmc</td>\n",
       "      <td>new sierra 1500</td>\n",
       "      <td>8 cylinders</td>\n",
       "      <td>gas</td>\n",
       "      <td>167783.0</td>\n",
       "      <td>automatic</td>\n",
       "      <td>4wd</td>\n",
       "      <td>NaN</td>\n",
       "      <td>NaN</td>\n",
       "      <td>red</td>\n",
       "      <td>mn</td>\n",
       "      <td>excellent &amp; clean</td>\n",
       "    </tr>\n",
       "    <tr>\n",
       "      <th>1</th>\n",
       "      <td>duluth / superior</td>\n",
       "      <td>8750</td>\n",
       "      <td>2013.0</td>\n",
       "      <td>hyundai</td>\n",
       "      <td>sonata</td>\n",
       "      <td>4 cylinders</td>\n",
       "      <td>gas</td>\n",
       "      <td>90821.0</td>\n",
       "      <td>automatic</td>\n",
       "      <td>fwd</td>\n",
       "      <td>NaN</td>\n",
       "      <td>NaN</td>\n",
       "      <td>grey</td>\n",
       "      <td>mn</td>\n",
       "      <td>excellent &amp; clean</td>\n",
       "    </tr>\n",
       "    <tr>\n",
       "      <th>2</th>\n",
       "      <td>new haven</td>\n",
       "      <td>10900</td>\n",
       "      <td>2013.0</td>\n",
       "      <td>toyota</td>\n",
       "      <td>prius</td>\n",
       "      <td>4 cylinders</td>\n",
       "      <td>hybrid</td>\n",
       "      <td>92800.0</td>\n",
       "      <td>automatic</td>\n",
       "      <td>fwd</td>\n",
       "      <td>NaN</td>\n",
       "      <td>NaN</td>\n",
       "      <td>blue</td>\n",
       "      <td>ct</td>\n",
       "      <td>good &amp; clean</td>\n",
       "    </tr>\n",
       "    <tr>\n",
       "      <th>4</th>\n",
       "      <td>duluth / superior</td>\n",
       "      <td>16995</td>\n",
       "      <td>2007.0</td>\n",
       "      <td>gmc</td>\n",
       "      <td>sierra classic 2500hd</td>\n",
       "      <td>8 cylinders</td>\n",
       "      <td>diesel</td>\n",
       "      <td>254217.0</td>\n",
       "      <td>automatic</td>\n",
       "      <td>4wd</td>\n",
       "      <td>full-size</td>\n",
       "      <td>truck</td>\n",
       "      <td>white</td>\n",
       "      <td>mn</td>\n",
       "      <td>good &amp; clean</td>\n",
       "    </tr>\n",
       "    <tr>\n",
       "      <th>5</th>\n",
       "      <td>duluth / superior</td>\n",
       "      <td>13995</td>\n",
       "      <td>2012.0</td>\n",
       "      <td>ford</td>\n",
       "      <td>f-150</td>\n",
       "      <td>6 cylinders</td>\n",
       "      <td>gas</td>\n",
       "      <td>188406.0</td>\n",
       "      <td>automatic</td>\n",
       "      <td>4wd</td>\n",
       "      <td>full-size</td>\n",
       "      <td>truck</td>\n",
       "      <td>grey</td>\n",
       "      <td>mn</td>\n",
       "      <td>good &amp; clean</td>\n",
       "    </tr>\n",
       "  </tbody>\n",
       "</table>\n",
       "</div>"
      ],
      "text/plain": [
       "              region  price    year manufacturer                  model  \\\n",
       "0  duluth / superior   6995  2000.0          gmc        new sierra 1500   \n",
       "1  duluth / superior   8750  2013.0      hyundai                 sonata   \n",
       "2          new haven  10900  2013.0       toyota                  prius   \n",
       "4  duluth / superior  16995  2007.0          gmc  sierra classic 2500hd   \n",
       "5  duluth / superior  13995  2012.0         ford                  f-150   \n",
       "\n",
       "     cylinders    fuel  odometer transmission drive       size   type  \\\n",
       "0  8 cylinders     gas  167783.0    automatic   4wd        NaN    NaN   \n",
       "1  4 cylinders     gas   90821.0    automatic   fwd        NaN    NaN   \n",
       "2  4 cylinders  hybrid   92800.0    automatic   fwd        NaN    NaN   \n",
       "4  8 cylinders  diesel  254217.0    automatic   4wd  full-size  truck   \n",
       "5  6 cylinders     gas  188406.0    automatic   4wd  full-size  truck   \n",
       "\n",
       "  paint_color state             status  \n",
       "0         red    mn  excellent & clean  \n",
       "1        grey    mn  excellent & clean  \n",
       "2        blue    ct       good & clean  \n",
       "4       white    mn       good & clean  \n",
       "5        grey    mn       good & clean  "
      ]
     },
     "execution_count": 46,
     "metadata": {},
     "output_type": "execute_result"
    }
   ],
   "source": [
    "#We combine condition and title_status and then we drop them\n",
    "database['status'] = database['condition'] + ' & ' + database['title_status']\n",
    "database.drop(['condition', 'title_status'], axis = 1, inplace=True)\n",
    "database.head(5)"
   ]
  },
  {
   "cell_type": "markdown",
   "metadata": {},
   "source": [
    "### Other methods to deal with NaN values"
   ]
  },
  {
   "cell_type": "code",
   "execution_count": 47,
   "metadata": {
    "scrolled": true
   },
   "outputs": [
    {
     "data": {
      "text/html": [
       "<div>\n",
       "<style scoped>\n",
       "    .dataframe tbody tr th:only-of-type {\n",
       "        vertical-align: middle;\n",
       "    }\n",
       "\n",
       "    .dataframe tbody tr th {\n",
       "        vertical-align: top;\n",
       "    }\n",
       "\n",
       "    .dataframe thead th {\n",
       "        text-align: right;\n",
       "    }\n",
       "</style>\n",
       "<table border=\"1\" class=\"dataframe\">\n",
       "  <thead>\n",
       "    <tr style=\"text-align: right;\">\n",
       "      <th></th>\n",
       "      <th>Null</th>\n",
       "      <th>Percentage</th>\n",
       "    </tr>\n",
       "  </thead>\n",
       "  <tbody>\n",
       "    <tr>\n",
       "      <th>size</th>\n",
       "      <td>119731</td>\n",
       "      <td>59.7</td>\n",
       "    </tr>\n",
       "    <tr>\n",
       "      <th>cylinders</th>\n",
       "      <td>59471</td>\n",
       "      <td>29.7</td>\n",
       "    </tr>\n",
       "    <tr>\n",
       "      <th>drive</th>\n",
       "      <td>32742</td>\n",
       "      <td>16.3</td>\n",
       "    </tr>\n",
       "    <tr>\n",
       "      <th>type</th>\n",
       "      <td>22838</td>\n",
       "      <td>11.4</td>\n",
       "    </tr>\n",
       "    <tr>\n",
       "      <th>paint_color</th>\n",
       "      <td>18796</td>\n",
       "      <td>9.4</td>\n",
       "    </tr>\n",
       "    <tr>\n",
       "      <th>manufacturer</th>\n",
       "      <td>4540</td>\n",
       "      <td>2.3</td>\n",
       "    </tr>\n",
       "    <tr>\n",
       "      <th>model</th>\n",
       "      <td>1599</td>\n",
       "      <td>0.8</td>\n",
       "    </tr>\n",
       "    <tr>\n",
       "      <th>fuel</th>\n",
       "      <td>794</td>\n",
       "      <td>0.4</td>\n",
       "    </tr>\n",
       "    <tr>\n",
       "      <th>transmission</th>\n",
       "      <td>589</td>\n",
       "      <td>0.3</td>\n",
       "    </tr>\n",
       "    <tr>\n",
       "      <th>region</th>\n",
       "      <td>0</td>\n",
       "      <td>0.0</td>\n",
       "    </tr>\n",
       "    <tr>\n",
       "      <th>price</th>\n",
       "      <td>0</td>\n",
       "      <td>0.0</td>\n",
       "    </tr>\n",
       "    <tr>\n",
       "      <th>year</th>\n",
       "      <td>0</td>\n",
       "      <td>0.0</td>\n",
       "    </tr>\n",
       "    <tr>\n",
       "      <th>odometer</th>\n",
       "      <td>0</td>\n",
       "      <td>0.0</td>\n",
       "    </tr>\n",
       "    <tr>\n",
       "      <th>state</th>\n",
       "      <td>0</td>\n",
       "      <td>0.0</td>\n",
       "    </tr>\n",
       "    <tr>\n",
       "      <th>status</th>\n",
       "      <td>0</td>\n",
       "      <td>0.0</td>\n",
       "    </tr>\n",
       "  </tbody>\n",
       "</table>\n",
       "</div>"
      ],
      "text/plain": [
       "                Null  Percentage\n",
       "size          119731        59.7\n",
       "cylinders      59471        29.7\n",
       "drive          32742        16.3\n",
       "type           22838        11.4\n",
       "paint_color    18796         9.4\n",
       "manufacturer    4540         2.3\n",
       "model           1599         0.8\n",
       "fuel             794         0.4\n",
       "transmission     589         0.3\n",
       "region             0         0.0\n",
       "price              0         0.0\n",
       "year               0         0.0\n",
       "odometer           0         0.0\n",
       "state              0         0.0\n",
       "status             0         0.0"
      ]
     },
     "execution_count": 47,
     "metadata": {},
     "output_type": "execute_result"
    }
   ],
   "source": [
    "missing_values_count = pd.DataFrame({'Null': database.isnull().sum()})\n",
    "total = len(database)\n",
    "percentage_null = round((missing_values_count['Null']/total)*100,1)\n",
    "missing_values_count['Percentage'] = percentage_null\n",
    "missing_values_count.sort_values(by= 'Null' , ascending = False)"
   ]
  },
  {
   "cell_type": "code",
   "execution_count": 48,
   "metadata": {},
   "outputs": [],
   "source": [
    "#First we delete \"size\" since it has so many NaN values\n",
    "database.drop('size', axis=1, inplace=True)"
   ]
  },
  {
   "cell_type": "code",
   "execution_count": 49,
   "metadata": {},
   "outputs": [],
   "source": [
    "#I will be deleting the NaN values < 5%  and \"size\" since \n",
    "database=database.dropna(subset=['transmission', 'fuel', 'model', 'manufacturer'])"
   ]
  },
  {
   "cell_type": "code",
   "execution_count": 50,
   "metadata": {},
   "outputs": [
    {
     "name": "stderr",
     "output_type": "stream",
     "text": [
      "<ipython-input-50-01593bc51ae6>:4: SettingWithCopyWarning: \n",
      "A value is trying to be set on a copy of a slice from a DataFrame.\n",
      "Try using .loc[row_indexer,col_indexer] = value instead\n",
      "\n",
      "See the caveats in the documentation: https://pandas.pydata.org/pandas-docs/stable/user_guide/indexing.html#returning-a-view-versus-a-copy\n",
      "  database[i] = database[i].fillna(method='ffill')\n"
     ]
    }
   ],
   "source": [
    "#Now we will be using \"ffill\" for those NaN values between 10% and 30%\n",
    "columns = ['drive', 'type', 'paint_color']\n",
    "for i in columns:\n",
    "    database[i] = database[i].fillna(method='ffill')"
   ]
  },
  {
   "cell_type": "code",
   "execution_count": 51,
   "metadata": {},
   "outputs": [
    {
     "data": {
      "text/html": [
       "<div>\n",
       "<style scoped>\n",
       "    .dataframe tbody tr th:only-of-type {\n",
       "        vertical-align: middle;\n",
       "    }\n",
       "\n",
       "    .dataframe tbody tr th {\n",
       "        vertical-align: top;\n",
       "    }\n",
       "\n",
       "    .dataframe thead th {\n",
       "        text-align: right;\n",
       "    }\n",
       "</style>\n",
       "<table border=\"1\" class=\"dataframe\">\n",
       "  <thead>\n",
       "    <tr style=\"text-align: right;\">\n",
       "      <th></th>\n",
       "      <th>Null</th>\n",
       "      <th>Percentage</th>\n",
       "    </tr>\n",
       "  </thead>\n",
       "  <tbody>\n",
       "    <tr>\n",
       "      <th>cylinders</th>\n",
       "      <td>56914</td>\n",
       "      <td>29.5</td>\n",
       "    </tr>\n",
       "    <tr>\n",
       "      <th>type</th>\n",
       "      <td>3</td>\n",
       "      <td>0.0</td>\n",
       "    </tr>\n",
       "    <tr>\n",
       "      <th>region</th>\n",
       "      <td>0</td>\n",
       "      <td>0.0</td>\n",
       "    </tr>\n",
       "    <tr>\n",
       "      <th>price</th>\n",
       "      <td>0</td>\n",
       "      <td>0.0</td>\n",
       "    </tr>\n",
       "    <tr>\n",
       "      <th>year</th>\n",
       "      <td>0</td>\n",
       "      <td>0.0</td>\n",
       "    </tr>\n",
       "    <tr>\n",
       "      <th>manufacturer</th>\n",
       "      <td>0</td>\n",
       "      <td>0.0</td>\n",
       "    </tr>\n",
       "    <tr>\n",
       "      <th>model</th>\n",
       "      <td>0</td>\n",
       "      <td>0.0</td>\n",
       "    </tr>\n",
       "    <tr>\n",
       "      <th>fuel</th>\n",
       "      <td>0</td>\n",
       "      <td>0.0</td>\n",
       "    </tr>\n",
       "    <tr>\n",
       "      <th>odometer</th>\n",
       "      <td>0</td>\n",
       "      <td>0.0</td>\n",
       "    </tr>\n",
       "    <tr>\n",
       "      <th>transmission</th>\n",
       "      <td>0</td>\n",
       "      <td>0.0</td>\n",
       "    </tr>\n",
       "    <tr>\n",
       "      <th>drive</th>\n",
       "      <td>0</td>\n",
       "      <td>0.0</td>\n",
       "    </tr>\n",
       "    <tr>\n",
       "      <th>paint_color</th>\n",
       "      <td>0</td>\n",
       "      <td>0.0</td>\n",
       "    </tr>\n",
       "    <tr>\n",
       "      <th>state</th>\n",
       "      <td>0</td>\n",
       "      <td>0.0</td>\n",
       "    </tr>\n",
       "    <tr>\n",
       "      <th>status</th>\n",
       "      <td>0</td>\n",
       "      <td>0.0</td>\n",
       "    </tr>\n",
       "  </tbody>\n",
       "</table>\n",
       "</div>"
      ],
      "text/plain": [
       "               Null  Percentage\n",
       "cylinders     56914        29.5\n",
       "type              3         0.0\n",
       "region            0         0.0\n",
       "price             0         0.0\n",
       "year              0         0.0\n",
       "manufacturer      0         0.0\n",
       "model             0         0.0\n",
       "fuel              0         0.0\n",
       "odometer          0         0.0\n",
       "transmission      0         0.0\n",
       "drive             0         0.0\n",
       "paint_color       0         0.0\n",
       "state             0         0.0\n",
       "status            0         0.0"
      ]
     },
     "execution_count": 51,
     "metadata": {},
     "output_type": "execute_result"
    }
   ],
   "source": [
    "#We check again since there must be left some NaN values\n",
    "missing_values_count = pd.DataFrame({'Null': database.isnull().sum()})\n",
    "total = len(database)\n",
    "percentage_null = round((missing_values_count['Null']/total)*100,1)\n",
    "missing_values_count['Percentage'] = percentage_null\n",
    "missing_values_count.sort_values(by= 'Null' , ascending = False)"
   ]
  },
  {
   "cell_type": "code",
   "execution_count": 52,
   "metadata": {},
   "outputs": [],
   "source": [
    "#We delete that subset of NaN values\n",
    "database=database.dropna(subset=['type'])"
   ]
  },
  {
   "cell_type": "code",
   "execution_count": 53,
   "metadata": {
    "scrolled": true
   },
   "outputs": [
    {
     "data": {
      "text/plain": [
       "drive  cylinders   \n",
       "4wd    10 cylinders      254\n",
       "       12 cylinders        4\n",
       "       2 cylinders         1\n",
       "       3 cylinders        48\n",
       "       4 cylinders     14303\n",
       "       5 cylinders       309\n",
       "       6 cylinders     20458\n",
       "       8 cylinders     17239\n",
       "       other              73\n",
       "4x4    10 cylinders        4\n",
       "       3 cylinders         1\n",
       "       4 cylinders       138\n",
       "       5 cylinders         3\n",
       "       6 cylinders       198\n",
       "       8 cylinders       128\n",
       "awd    10 cylinders        1\n",
       "       3 cylinders         1\n",
       "       4 cylinders       964\n",
       "       5 cylinders        14\n",
       "       6 cylinders      1012\n",
       "       8 cylinders       215\n",
       "       other               4\n",
       "fwd    10 cylinders       30\n",
       "       12 cylinders        8\n",
       "       3 cylinders       206\n",
       "       4 cylinders     35698\n",
       "       5 cylinders       746\n",
       "       6 cylinders     17217\n",
       "       8 cylinders      1872\n",
       "       other             171\n",
       "rwd    10 cylinders      259\n",
       "       12 cylinders       56\n",
       "       2 cylinders         6\n",
       "       3 cylinders        16\n",
       "       4 cylinders      3670\n",
       "       5 cylinders       153\n",
       "       6 cylinders      9213\n",
       "       8 cylinders     11365\n",
       "       other              88\n",
       "Name: cylinders, dtype: int64"
      ]
     },
     "execution_count": 53,
     "metadata": {},
     "output_type": "execute_result"
    }
   ],
   "source": [
    "#Finally instead of doing the ffill we will use drive to guess cylinders' NaN values\n",
    "database.groupby(['drive', 'cylinders']).cylinders.count()"
   ]
  },
  {
   "cell_type": "code",
   "execution_count": 54,
   "metadata": {},
   "outputs": [],
   "source": [
    "#We add a value to the Nan values of cylinders using drive \n",
    "values = {'4wd': '6 cylinders',\n",
    "              '4x4': '6 cylinders',\n",
    "              'awd': '6 cylinders',\n",
    "              'fwd': '4 cylinders',\n",
    "              'rwd': '8 cylinders'}\n",
    "\n",
    "database.loc[database[\"cylinders\"].isna(), 'cylinders'] = database.loc[\n",
    "    database[\"cylinders\"].isna(), 'drive'].map(lambda x: values[x])"
   ]
  },
  {
   "cell_type": "markdown",
   "metadata": {},
   "source": [
    "### Region - State"
   ]
  },
  {
   "cell_type": "code",
   "execution_count": 55,
   "metadata": {
    "scrolled": true
   },
   "outputs": [
    {
     "data": {
      "text/html": [
       "<div>\n",
       "<style scoped>\n",
       "    .dataframe tbody tr th:only-of-type {\n",
       "        vertical-align: middle;\n",
       "    }\n",
       "\n",
       "    .dataframe tbody tr th {\n",
       "        vertical-align: top;\n",
       "    }\n",
       "\n",
       "    .dataframe thead th {\n",
       "        text-align: right;\n",
       "    }\n",
       "</style>\n",
       "<table border=\"1\" class=\"dataframe\">\n",
       "  <thead>\n",
       "    <tr style=\"text-align: right;\">\n",
       "      <th></th>\n",
       "      <th>region</th>\n",
       "      <th>price</th>\n",
       "      <th>year</th>\n",
       "      <th>manufacturer</th>\n",
       "      <th>model</th>\n",
       "      <th>cylinders</th>\n",
       "      <th>fuel</th>\n",
       "      <th>odometer</th>\n",
       "      <th>transmission</th>\n",
       "      <th>drive</th>\n",
       "      <th>type</th>\n",
       "      <th>paint_color</th>\n",
       "      <th>status</th>\n",
       "    </tr>\n",
       "  </thead>\n",
       "  <tbody>\n",
       "    <tr>\n",
       "      <th>4</th>\n",
       "      <td>duluth / superior (mn)</td>\n",
       "      <td>16995</td>\n",
       "      <td>2007.0</td>\n",
       "      <td>gmc</td>\n",
       "      <td>sierra classic 2500hd</td>\n",
       "      <td>8 cylinders</td>\n",
       "      <td>diesel</td>\n",
       "      <td>254217.0</td>\n",
       "      <td>automatic</td>\n",
       "      <td>4wd</td>\n",
       "      <td>truck</td>\n",
       "      <td>white</td>\n",
       "      <td>good &amp; clean</td>\n",
       "    </tr>\n",
       "    <tr>\n",
       "      <th>5</th>\n",
       "      <td>duluth / superior (mn)</td>\n",
       "      <td>13995</td>\n",
       "      <td>2012.0</td>\n",
       "      <td>ford</td>\n",
       "      <td>f-150</td>\n",
       "      <td>6 cylinders</td>\n",
       "      <td>gas</td>\n",
       "      <td>188406.0</td>\n",
       "      <td>automatic</td>\n",
       "      <td>4wd</td>\n",
       "      <td>truck</td>\n",
       "      <td>grey</td>\n",
       "      <td>good &amp; clean</td>\n",
       "    </tr>\n",
       "    <tr>\n",
       "      <th>6</th>\n",
       "      <td>duluth / superior (mn)</td>\n",
       "      <td>7995</td>\n",
       "      <td>2010.0</td>\n",
       "      <td>chevrolet</td>\n",
       "      <td>equinox</td>\n",
       "      <td>4 cylinders</td>\n",
       "      <td>gas</td>\n",
       "      <td>108124.0</td>\n",
       "      <td>automatic</td>\n",
       "      <td>4wd</td>\n",
       "      <td>suv</td>\n",
       "      <td>grey</td>\n",
       "      <td>good &amp; clean</td>\n",
       "    </tr>\n",
       "    <tr>\n",
       "      <th>7</th>\n",
       "      <td>duluth / superior (mn)</td>\n",
       "      <td>8995</td>\n",
       "      <td>2011.0</td>\n",
       "      <td>chevrolet</td>\n",
       "      <td>traverse</td>\n",
       "      <td>6 cylinders</td>\n",
       "      <td>gas</td>\n",
       "      <td>178054.0</td>\n",
       "      <td>automatic</td>\n",
       "      <td>4wd</td>\n",
       "      <td>suv</td>\n",
       "      <td>white</td>\n",
       "      <td>good &amp; clean</td>\n",
       "    </tr>\n",
       "    <tr>\n",
       "      <th>8</th>\n",
       "      <td>duluth / superior (mn)</td>\n",
       "      <td>10995</td>\n",
       "      <td>2014.0</td>\n",
       "      <td>ford</td>\n",
       "      <td>explorer</td>\n",
       "      <td>6 cylinders</td>\n",
       "      <td>gas</td>\n",
       "      <td>170259.0</td>\n",
       "      <td>automatic</td>\n",
       "      <td>4wd</td>\n",
       "      <td>suv</td>\n",
       "      <td>white</td>\n",
       "      <td>good &amp; clean</td>\n",
       "    </tr>\n",
       "  </tbody>\n",
       "</table>\n",
       "</div>"
      ],
      "text/plain": [
       "                   region  price    year manufacturer                  model  \\\n",
       "4  duluth / superior (mn)  16995  2007.0          gmc  sierra classic 2500hd   \n",
       "5  duluth / superior (mn)  13995  2012.0         ford                  f-150   \n",
       "6  duluth / superior (mn)   7995  2010.0    chevrolet                equinox   \n",
       "7  duluth / superior (mn)   8995  2011.0    chevrolet               traverse   \n",
       "8  duluth / superior (mn)  10995  2014.0         ford               explorer   \n",
       "\n",
       "     cylinders    fuel  odometer transmission drive   type paint_color  \\\n",
       "4  8 cylinders  diesel  254217.0    automatic   4wd  truck       white   \n",
       "5  6 cylinders     gas  188406.0    automatic   4wd  truck        grey   \n",
       "6  4 cylinders     gas  108124.0    automatic   4wd    suv        grey   \n",
       "7  6 cylinders     gas  178054.0    automatic   4wd    suv       white   \n",
       "8  6 cylinders     gas  170259.0    automatic   4wd    suv       white   \n",
       "\n",
       "         status  \n",
       "4  good & clean  \n",
       "5  good & clean  \n",
       "6  good & clean  \n",
       "7  good & clean  \n",
       "8  good & clean  "
      ]
     },
     "execution_count": 55,
     "metadata": {},
     "output_type": "execute_result"
    }
   ],
   "source": [
    "#Since they are deeply connected we will join these 2 columns\n",
    "#We combine condition and title_status and then we drop them\n",
    "database['region'] = database['region'] + ' (' + database['state'] + ')'\n",
    "database.drop(['state'], axis = 1, inplace=True)\n",
    "database.head(5)"
   ]
  },
  {
   "cell_type": "markdown",
   "metadata": {},
   "source": [
    "## Categorical Variable Encoding"
   ]
  },
  {
   "cell_type": "code",
   "execution_count": 56,
   "metadata": {
    "scrolled": true
   },
   "outputs": [
    {
     "data": {
      "text/plain": [
       "(193060, 13)"
      ]
     },
     "execution_count": 56,
     "metadata": {},
     "output_type": "execute_result"
    }
   ],
   "source": [
    "database.shape"
   ]
  },
  {
   "cell_type": "code",
   "execution_count": 57,
   "metadata": {},
   "outputs": [
    {
     "name": "stdout",
     "output_type": "stream",
     "text": [
      "<class 'pandas.core.frame.DataFrame'>\n",
      "Int64Index: 193060 entries, 4 to 423856\n",
      "Data columns (total 13 columns):\n",
      " #   Column        Non-Null Count   Dtype  \n",
      "---  ------        --------------   -----  \n",
      " 0   region        193060 non-null  object \n",
      " 1   price         193060 non-null  int64  \n",
      " 2   year          193060 non-null  float64\n",
      " 3   manufacturer  193060 non-null  object \n",
      " 4   model         193060 non-null  object \n",
      " 5   cylinders     193060 non-null  object \n",
      " 6   fuel          193060 non-null  object \n",
      " 7   odometer      193060 non-null  float64\n",
      " 8   transmission  193060 non-null  object \n",
      " 9   drive         193060 non-null  object \n",
      " 10  type          193060 non-null  object \n",
      " 11  paint_color   193060 non-null  object \n",
      " 12  status        193060 non-null  object \n",
      "dtypes: float64(2), int64(1), object(10)\n",
      "memory usage: 20.6+ MB\n"
     ]
    }
   ],
   "source": [
    "database.info()"
   ]
  },
  {
   "cell_type": "code",
   "execution_count": 58,
   "metadata": {},
   "outputs": [
    {
     "data": {
      "text/html": [
       "<div>\n",
       "<style scoped>\n",
       "    .dataframe tbody tr th:only-of-type {\n",
       "        vertical-align: middle;\n",
       "    }\n",
       "\n",
       "    .dataframe tbody tr th {\n",
       "        vertical-align: top;\n",
       "    }\n",
       "\n",
       "    .dataframe thead th {\n",
       "        text-align: right;\n",
       "    }\n",
       "</style>\n",
       "<table border=\"1\" class=\"dataframe\">\n",
       "  <thead>\n",
       "    <tr style=\"text-align: right;\">\n",
       "      <th></th>\n",
       "      <th>region</th>\n",
       "      <th>manufacturer</th>\n",
       "      <th>model</th>\n",
       "      <th>cylinders</th>\n",
       "      <th>fuel</th>\n",
       "      <th>transmission</th>\n",
       "      <th>drive</th>\n",
       "      <th>type</th>\n",
       "      <th>paint_color</th>\n",
       "      <th>status</th>\n",
       "      <th>price</th>\n",
       "      <th>year</th>\n",
       "      <th>odometer</th>\n",
       "    </tr>\n",
       "  </thead>\n",
       "  <tbody>\n",
       "    <tr>\n",
       "      <th>4</th>\n",
       "      <td>88</td>\n",
       "      <td>14</td>\n",
       "      <td>13022</td>\n",
       "      <td>7</td>\n",
       "      <td>0</td>\n",
       "      <td>0</td>\n",
       "      <td>0</td>\n",
       "      <td>10</td>\n",
       "      <td>10</td>\n",
       "      <td>12</td>\n",
       "      <td>16995</td>\n",
       "      <td>2007.0</td>\n",
       "      <td>254217.0</td>\n",
       "    </tr>\n",
       "  </tbody>\n",
       "</table>\n",
       "</div>"
      ],
      "text/plain": [
       "   region  manufacturer  model  cylinders  fuel  transmission  drive  type  \\\n",
       "4      88            14  13022          7     0             0      0    10   \n",
       "\n",
       "   paint_color  status  price    year  odometer  \n",
       "4           10      12  16995  2007.0  254217.0  "
      ]
     },
     "execution_count": 58,
     "metadata": {},
     "output_type": "execute_result"
    }
   ],
   "source": [
    "#We have 13 columns. Out of those, 10 columns are categorical. \n",
    "# Apply the Label encoder to each categorical feature \n",
    "from sklearn.preprocessing import LabelEncoder \n",
    "cat_features = ['region', 'manufacturer', 'model', 'cylinders', 'fuel', 'transmission', \n",
    "                'drive', 'type', 'paint_color', 'status'] \n",
    "encoder = LabelEncoder() \n",
    "encoded = database[cat_features].apply(encoder.fit_transform)\n",
    "database.drop(cat_features, axis=1, inplace=True)\n",
    "database = pd.concat([encoded,database],axis = 1) \n",
    "database.head(1)"
   ]
  },
  {
   "cell_type": "markdown",
   "metadata": {},
   "source": [
    "## Correlations"
   ]
  },
  {
   "cell_type": "code",
   "execution_count": 59,
   "metadata": {},
   "outputs": [
    {
     "data": {
      "text/plain": [
       "<matplotlib.axes._subplots.AxesSubplot at 0x7fea8f83dc10>"
      ]
     },
     "execution_count": 59,
     "metadata": {},
     "output_type": "execute_result"
    },
    {
     "data": {
      "image/png": "[encoded data removed]",
      "text/plain": [
       "<Figure size 720x720 with 2 Axes>"
      ]
     },
     "metadata": {},
     "output_type": "display_data"
    }
   ],
   "source": [
    "#We check high correlated features with the Correlation Matrix\n",
    "#If there are none, we leave the database as it is\n",
    "sns.set(style=\"white\")\n",
    "corr = database.drop(columns = ['price']).corr()\n",
    "mask = np.zeros_like(corr, dtype=np.bool)\n",
    "mask[np.triu_indices_from(mask)] = True\n",
    "f, ax = plt.subplots(figsize=(10, 10))\n",
    "cmap = sns.diverging_palette(220, 10, as_cmap=True)\n",
    "sns.heatmap(corr, mask=mask, cmap=cmap, vmax=.3, center=0,square=True, linewidths=.5, \n",
    "            cbar_kws={\"shrink\": .5}, annot = True)"
   ]
  },
  {
   "cell_type": "markdown",
   "metadata": {},
   "source": [
    "## Splitting into Train and Test Set "
   ]
  },
  {
   "cell_type": "code",
   "execution_count": 60,
   "metadata": {},
   "outputs": [
    {
     "data": {
      "text/plain": [
       "Index(['region', 'manufacturer', 'model', 'cylinders', 'fuel', 'transmission',\n",
       "       'drive', 'type', 'paint_color', 'status', 'price', 'year', 'odometer'],\n",
       "      dtype='object')"
      ]
     },
     "execution_count": 60,
     "metadata": {},
     "output_type": "execute_result"
    }
   ],
   "source": [
    "database.columns"
   ]
  },
  {
   "cell_type": "code",
   "execution_count": 61,
   "metadata": {},
   "outputs": [
    {
     "data": {
      "text/html": [
       "<div>\n",
       "<style scoped>\n",
       "    .dataframe tbody tr th:only-of-type {\n",
       "        vertical-align: middle;\n",
       "    }\n",
       "\n",
       "    .dataframe tbody tr th {\n",
       "        vertical-align: top;\n",
       "    }\n",
       "\n",
       "    .dataframe thead th {\n",
       "        text-align: right;\n",
       "    }\n",
       "</style>\n",
       "<table border=\"1\" class=\"dataframe\">\n",
       "  <thead>\n",
       "    <tr style=\"text-align: right;\">\n",
       "      <th></th>\n",
       "      <th>region</th>\n",
       "      <th>manufacturer</th>\n",
       "      <th>model</th>\n",
       "      <th>cylinders</th>\n",
       "      <th>fuel</th>\n",
       "      <th>transmission</th>\n",
       "      <th>drive</th>\n",
       "      <th>type</th>\n",
       "      <th>paint_color</th>\n",
       "      <th>status</th>\n",
       "      <th>year</th>\n",
       "      <th>odometer</th>\n",
       "      <th>price</th>\n",
       "    </tr>\n",
       "  </thead>\n",
       "  <tbody>\n",
       "    <tr>\n",
       "      <th>4</th>\n",
       "      <td>88</td>\n",
       "      <td>14</td>\n",
       "      <td>13022</td>\n",
       "      <td>7</td>\n",
       "      <td>0</td>\n",
       "      <td>0</td>\n",
       "      <td>0</td>\n",
       "      <td>10</td>\n",
       "      <td>10</td>\n",
       "      <td>12</td>\n",
       "      <td>2007.0</td>\n",
       "      <td>254217.0</td>\n",
       "      <td>16995</td>\n",
       "    </tr>\n",
       "  </tbody>\n",
       "</table>\n",
       "</div>"
      ],
      "text/plain": [
       "   region  manufacturer  model  cylinders  fuel  transmission  drive  type  \\\n",
       "4      88            14  13022          7     0             0      0    10   \n",
       "\n",
       "   paint_color  status    year  odometer  price  \n",
       "4           10      12  2007.0  254217.0  16995  "
      ]
     },
     "execution_count": 61,
     "metadata": {},
     "output_type": "execute_result"
    }
   ],
   "source": [
    "#First, we change the order of the features and we put the depedent variable at the end\n",
    "column_names = ['region', 'manufacturer', 'model', 'cylinders', 'fuel', 'transmission',\n",
    "       'drive', 'type', 'paint_color', 'status', 'year',\n",
    "       'odometer' , 'price']\n",
    "\n",
    "database = database.reindex(columns = column_names ) \n",
    "database.head(1)"
   ]
  },
  {
   "cell_type": "code",
   "execution_count": 62,
   "metadata": {},
   "outputs": [],
   "source": [
    "#We split into Training and Test Set\n",
    "\n",
    "X = database.iloc[:,:-1]  #independent columns\n",
    "y = database.iloc[:,-1]    #target column i.e price range\n",
    "\n",
    "from sklearn.model_selection import train_test_split\n",
    "X_train, X_test, y_train, y_test = train_test_split(X, y, test_size = 0.2, random_state = 0)"
   ]
  },
  {
   "cell_type": "markdown",
   "metadata": {},
   "source": [
    "## Scaling"
   ]
  },
  {
   "cell_type": "code",
   "execution_count": 63,
   "metadata": {},
   "outputs": [
    {
     "data": {
      "text/html": [
       "<div>\n",
       "<style scoped>\n",
       "    .dataframe tbody tr th:only-of-type {\n",
       "        vertical-align: middle;\n",
       "    }\n",
       "\n",
       "    .dataframe tbody tr th {\n",
       "        vertical-align: top;\n",
       "    }\n",
       "\n",
       "    .dataframe thead th {\n",
       "        text-align: right;\n",
       "    }\n",
       "</style>\n",
       "<table border=\"1\" class=\"dataframe\">\n",
       "  <thead>\n",
       "    <tr style=\"text-align: right;\">\n",
       "      <th></th>\n",
       "      <th>region</th>\n",
       "      <th>manufacturer</th>\n",
       "      <th>model</th>\n",
       "      <th>cylinders</th>\n",
       "      <th>fuel</th>\n",
       "      <th>transmission</th>\n",
       "      <th>drive</th>\n",
       "      <th>type</th>\n",
       "      <th>paint_color</th>\n",
       "      <th>status</th>\n",
       "      <th>year</th>\n",
       "      <th>odometer</th>\n",
       "    </tr>\n",
       "  </thead>\n",
       "  <tbody>\n",
       "    <tr>\n",
       "      <th>232399</th>\n",
       "      <td>-1.35073</td>\n",
       "      <td>-0.512069</td>\n",
       "      <td>-0.437021</td>\n",
       "      <td>0.535703</td>\n",
       "      <td>0.045659</td>\n",
       "      <td>-0.311257</td>\n",
       "      <td>-1.236546</td>\n",
       "      <td>0.478498</td>\n",
       "      <td>-0.44515</td>\n",
       "      <td>-1.071774</td>\n",
       "      <td>0.359612</td>\n",
       "      <td>0.986555</td>\n",
       "    </tr>\n",
       "  </tbody>\n",
       "</table>\n",
       "</div>"
      ],
      "text/plain": [
       "         region  manufacturer     model  cylinders      fuel  transmission  \\\n",
       "232399 -1.35073     -0.512069 -0.437021   0.535703  0.045659     -0.311257   \n",
       "\n",
       "           drive      type  paint_color    status      year  odometer  \n",
       "232399 -1.236546  0.478498     -0.44515 -1.071774  0.359612  0.986555  "
      ]
     },
     "execution_count": 63,
     "metadata": {},
     "output_type": "execute_result"
    }
   ],
   "source": [
    "#Now we do some Feature Scaling\n",
    "from sklearn.preprocessing import StandardScaler\n",
    "\n",
    "sc_X = StandardScaler()\n",
    "\n",
    "X_train2 = pd.DataFrame(sc_X.fit_transform(X_train))\n",
    "X_test2 = pd.DataFrame(sc_X.transform(X_test)) #we do the Feature Scaling\n",
    "\n",
    "X_train2.columns = X_train.columns.values \n",
    "X_test2.columns = X_test.columns.values #we give the new Scaled DataFrame column names\n",
    "\n",
    "X_train2.index = X_train.index.values\n",
    "X_test2.index = X_test.index.values #we give the new Scaled DataFrame each index\n",
    "\n",
    "X_train = X_train2\n",
    "X_test = X_test2\n",
    "\n",
    "X_train.head(1)"
   ]
  },
  {
   "cell_type": "markdown",
   "metadata": {},
   "source": [
    "## Modelling"
   ]
  },
  {
   "cell_type": "markdown",
   "metadata": {},
   "source": [
    "### Random Forest"
   ]
  },
  {
   "cell_type": "code",
   "execution_count": 64,
   "metadata": {},
   "outputs": [],
   "source": [
    "#We chose Random Forest algorith for this project\n",
    "#Let's do Cross Validation to check the overal score in the Training Set\n",
    "from sklearn.model_selection import cross_val_score\n",
    "from sklearn.ensemble import RandomForestRegressor\n",
    "\n",
    "scores = []\n",
    "forest = RandomForestRegressor(n_estimators=20, random_state=0)\n",
    "acc = cross_val_score(forest, X_train, y_train, scoring='r2', cv=5)\n",
    "scores.append(round(acc.mean()*100,2))"
   ]
  },
  {
   "cell_type": "code",
   "execution_count": 65,
   "metadata": {},
   "outputs": [
    {
     "data": {
      "text/html": [
       "<div>\n",
       "<style scoped>\n",
       "    .dataframe tbody tr th:only-of-type {\n",
       "        vertical-align: middle;\n",
       "    }\n",
       "\n",
       "    .dataframe tbody tr th {\n",
       "        vertical-align: top;\n",
       "    }\n",
       "\n",
       "    .dataframe thead th {\n",
       "        text-align: right;\n",
       "    }\n",
       "</style>\n",
       "<table border=\"1\" class=\"dataframe\">\n",
       "  <thead>\n",
       "    <tr style=\"text-align: right;\">\n",
       "      <th></th>\n",
       "      <th>Metrics</th>\n",
       "      <th>Accuracy</th>\n",
       "    </tr>\n",
       "  </thead>\n",
       "  <tbody>\n",
       "    <tr>\n",
       "      <th>0</th>\n",
       "      <td>R2</td>\n",
       "      <td>85.48</td>\n",
       "    </tr>\n",
       "  </tbody>\n",
       "</table>\n",
       "</div>"
      ],
      "text/plain": [
       "  Metrics  Accuracy\n",
       "0      R2     85.48"
      ]
     },
     "execution_count": 65,
     "metadata": {},
     "output_type": "execute_result"
    }
   ],
   "source": [
    "results = pd.DataFrame({\n",
    "    'Metrics': ['R2'],\n",
    "    'Accuracy': scores})\n",
    "results"
   ]
  },
  {
   "cell_type": "markdown",
   "metadata": {},
   "source": [
    "### Hyper-parameter tuning"
   ]
  },
  {
   "cell_type": "code",
   "execution_count": 66,
   "metadata": {},
   "outputs": [],
   "source": [
    "#To improve the performance of the model, we optimise hyper-parameters\n",
    "from sklearn.model_selection import GridSearchCV\n",
    "\n",
    "param_grid = {'n_estimators': [100, 200, 300]}\n",
    "forest = RandomForestRegressor(random_state=0)\n",
    "grid_search = GridSearchCV(estimator = forest, param_grid = param_grid, \n",
    "                          cv = 3, n_jobs = -1, verbose = 2)"
   ]
  },
  {
   "cell_type": "code",
   "execution_count": 67,
   "metadata": {},
   "outputs": [
    {
     "name": "stdout",
     "output_type": "stream",
     "text": [
      "Fitting 3 folds for each of 3 candidates, totalling 9 fits\n"
     ]
    },
    {
     "name": "stderr",
     "output_type": "stream",
     "text": [
      "[Parallel(n_jobs=-1)]: Using backend LokyBackend with 4 concurrent workers.\n",
      "[Parallel(n_jobs=-1)]: Done   7 out of   9 | elapsed:  8.1min remaining:  2.3min\n",
      "[Parallel(n_jobs=-1)]: Done   9 out of   9 | elapsed: 10.4min finished\n"
     ]
    },
    {
     "data": {
      "text/plain": [
       "{'n_estimators': 300}"
      ]
     },
     "execution_count": 67,
     "metadata": {},
     "output_type": "execute_result"
    }
   ],
   "source": [
    "grid_search.fit(X_train, y_train)\n",
    "grid_search.best_params_"
   ]
  },
  {
   "cell_type": "code",
   "execution_count": 68,
   "metadata": {},
   "outputs": [],
   "source": [
    "scores2 = []\n",
    "best_grid = grid_search.best_estimator_\n",
    "acc2 = cross_val_score(best_grid, X_train, y_train, scoring='r2', cv=5)\n",
    "scores2.append(round(acc2.mean()*100,2))"
   ]
  },
  {
   "cell_type": "code",
   "execution_count": 69,
   "metadata": {},
   "outputs": [
    {
     "data": {
      "text/html": [
       "<div>\n",
       "<style scoped>\n",
       "    .dataframe tbody tr th:only-of-type {\n",
       "        vertical-align: middle;\n",
       "    }\n",
       "\n",
       "    .dataframe tbody tr th {\n",
       "        vertical-align: top;\n",
       "    }\n",
       "\n",
       "    .dataframe thead th {\n",
       "        text-align: right;\n",
       "    }\n",
       "</style>\n",
       "<table border=\"1\" class=\"dataframe\">\n",
       "  <thead>\n",
       "    <tr style=\"text-align: right;\">\n",
       "      <th></th>\n",
       "      <th>Metrics</th>\n",
       "      <th>Accuracy</th>\n",
       "      <th>Accuracy Tuned Param</th>\n",
       "    </tr>\n",
       "  </thead>\n",
       "  <tbody>\n",
       "    <tr>\n",
       "      <th>0</th>\n",
       "      <td>R2</td>\n",
       "      <td>85.48</td>\n",
       "      <td>86.34</td>\n",
       "    </tr>\n",
       "  </tbody>\n",
       "</table>\n",
       "</div>"
      ],
      "text/plain": [
       "  Metrics  Accuracy  Accuracy Tuned Param\n",
       "0      R2     85.48                 86.34"
      ]
     },
     "execution_count": 69,
     "metadata": {},
     "output_type": "execute_result"
    }
   ],
   "source": [
    "results = pd.DataFrame({\n",
    "    'Metrics': ['R2'],\n",
    "    'Accuracy': scores,\n",
    "    'Accuracy Tuned Param': scores2})\n",
    "results"
   ]
  },
  {
   "cell_type": "markdown",
   "metadata": {},
   "source": [
    "### Validation"
   ]
  },
  {
   "cell_type": "code",
   "execution_count": 70,
   "metadata": {},
   "outputs": [],
   "source": [
    "#Finally let's check the performance on the Test Set\n",
    "from sklearn.metrics import r2_score\n",
    "\n",
    "best_grid = grid_search.best_estimator_\n",
    "y_pred = best_grid.predict(X_test)\n",
    "acc_test = round(r2_score(y_test,y_pred)*100,2)"
   ]
  },
  {
   "cell_type": "code",
   "execution_count": 71,
   "metadata": {},
   "outputs": [
    {
     "data": {
      "text/html": [
       "<div>\n",
       "<style scoped>\n",
       "    .dataframe tbody tr th:only-of-type {\n",
       "        vertical-align: middle;\n",
       "    }\n",
       "\n",
       "    .dataframe tbody tr th {\n",
       "        vertical-align: top;\n",
       "    }\n",
       "\n",
       "    .dataframe thead th {\n",
       "        text-align: right;\n",
       "    }\n",
       "</style>\n",
       "<table border=\"1\" class=\"dataframe\">\n",
       "  <thead>\n",
       "    <tr style=\"text-align: right;\">\n",
       "      <th></th>\n",
       "      <th>Metrics</th>\n",
       "      <th>Accuracy</th>\n",
       "      <th>Accuracy Tuned Param</th>\n",
       "      <th>Accuracy Test Set</th>\n",
       "    </tr>\n",
       "  </thead>\n",
       "  <tbody>\n",
       "    <tr>\n",
       "      <th>0</th>\n",
       "      <td>R2</td>\n",
       "      <td>85.48</td>\n",
       "      <td>86.34</td>\n",
       "      <td>87.03</td>\n",
       "    </tr>\n",
       "  </tbody>\n",
       "</table>\n",
       "</div>"
      ],
      "text/plain": [
       "  Metrics  Accuracy  Accuracy Tuned Param  Accuracy Test Set\n",
       "0      R2     85.48                 86.34              87.03"
      ]
     },
     "execution_count": 71,
     "metadata": {},
     "output_type": "execute_result"
    }
   ],
   "source": [
    "results = pd.DataFrame({\n",
    "    'Metrics': ['R2'],\n",
    "    'Accuracy': scores,\n",
    "    'Accuracy Tuned Param': scores2,\n",
    "    'Accuracy Test Set': acc_test})\n",
    "results"
   ]
  },
  {
   "cell_type": "code",
   "execution_count": 72,
   "metadata": {},
   "outputs": [
    {
     "name": "stdout",
     "output_type": "stream",
     "text": [
      "Mean Absolute Error: 1746.9\n",
      "Mean Squared Error: 7721380.42\n",
      "Root Mean Squared Error: 2778.74\n"
     ]
    }
   ],
   "source": [
    "#Other metrics apart from R2 \n",
    "from sklearn import metrics\n",
    "from sklearn.metrics import mean_squared_error as MSE\n",
    "\n",
    "print('Mean Absolute Error:', round(metrics.mean_absolute_error(y_test, y_pred),2))\n",
    "print('Mean Squared Error:', round(metrics.mean_squared_error(y_test, y_pred),2))\n",
    "print('Root Mean Squared Error:', round(np.sqrt(metrics.mean_squared_error(y_test, y_pred)),2))"
   ]
  },
  {
   "cell_type": "markdown",
   "metadata": {},
   "source": [
    "### Feature importance"
   ]
  },
  {
   "cell_type": "code",
   "execution_count": 73,
   "metadata": {
    "scrolled": true
   },
   "outputs": [],
   "source": [
    "#On to the second goal: feature importance when predicting prices\n",
    "name = []\n",
    "importance = []\n",
    "for nam, imp in zip(X, best_grid.feature_importances_):\n",
    "    name.append(nam)\n",
    "    importance.append(round(imp*100,2))"
   ]
  },
  {
   "cell_type": "code",
   "execution_count": 74,
   "metadata": {},
   "outputs": [
    {
     "data": {
      "text/html": [
       "<div>\n",
       "<style scoped>\n",
       "    .dataframe tbody tr th:only-of-type {\n",
       "        vertical-align: middle;\n",
       "    }\n",
       "\n",
       "    .dataframe tbody tr th {\n",
       "        vertical-align: top;\n",
       "    }\n",
       "\n",
       "    .dataframe thead th {\n",
       "        text-align: right;\n",
       "    }\n",
       "</style>\n",
       "<table border=\"1\" class=\"dataframe\">\n",
       "  <thead>\n",
       "    <tr style=\"text-align: right;\">\n",
       "      <th></th>\n",
       "      <th>Features</th>\n",
       "      <th>Importance (%)</th>\n",
       "    </tr>\n",
       "  </thead>\n",
       "  <tbody>\n",
       "    <tr>\n",
       "      <th>10</th>\n",
       "      <td>year</td>\n",
       "      <td>42.49</td>\n",
       "    </tr>\n",
       "    <tr>\n",
       "      <th>11</th>\n",
       "      <td>odometer</td>\n",
       "      <td>14.66</td>\n",
       "    </tr>\n",
       "    <tr>\n",
       "      <th>3</th>\n",
       "      <td>cylinders</td>\n",
       "      <td>10.54</td>\n",
       "    </tr>\n",
       "    <tr>\n",
       "      <th>2</th>\n",
       "      <td>model</td>\n",
       "      <td>9.17</td>\n",
       "    </tr>\n",
       "    <tr>\n",
       "      <th>4</th>\n",
       "      <td>fuel</td>\n",
       "      <td>4.96</td>\n",
       "    </tr>\n",
       "    <tr>\n",
       "      <th>1</th>\n",
       "      <td>manufacturer</td>\n",
       "      <td>4.72</td>\n",
       "    </tr>\n",
       "    <tr>\n",
       "      <th>7</th>\n",
       "      <td>type</td>\n",
       "      <td>3.47</td>\n",
       "    </tr>\n",
       "    <tr>\n",
       "      <th>6</th>\n",
       "      <td>drive</td>\n",
       "      <td>3.25</td>\n",
       "    </tr>\n",
       "    <tr>\n",
       "      <th>0</th>\n",
       "      <td>region</td>\n",
       "      <td>2.54</td>\n",
       "    </tr>\n",
       "    <tr>\n",
       "      <th>9</th>\n",
       "      <td>status</td>\n",
       "      <td>1.99</td>\n",
       "    </tr>\n",
       "    <tr>\n",
       "      <th>8</th>\n",
       "      <td>paint_color</td>\n",
       "      <td>1.66</td>\n",
       "    </tr>\n",
       "    <tr>\n",
       "      <th>5</th>\n",
       "      <td>transmission</td>\n",
       "      <td>0.55</td>\n",
       "    </tr>\n",
       "  </tbody>\n",
       "</table>\n",
       "</div>"
      ],
      "text/plain": [
       "        Features  Importance (%)\n",
       "10          year           42.49\n",
       "11      odometer           14.66\n",
       "3      cylinders           10.54\n",
       "2          model            9.17\n",
       "4           fuel            4.96\n",
       "1   manufacturer            4.72\n",
       "7           type            3.47\n",
       "6          drive            3.25\n",
       "0         region            2.54\n",
       "9         status            1.99\n",
       "8    paint_color            1.66\n",
       "5   transmission            0.55"
      ]
     },
     "execution_count": 74,
     "metadata": {},
     "output_type": "execute_result"
    }
   ],
   "source": [
    "features = pd.DataFrame({'Features': name, \"Importance (%)\": importance})\n",
    "features.sort_values(by='Importance (%)', ascending = False)"
   ]
  },
  {
   "cell_type": "code",
   "execution_count": 75,
   "metadata": {},
   "outputs": [
    {
     "data": {
      "image/png": "[encoded data removed]",
      "text/plain": [
       "<Figure size 720x576 with 1 Axes>"
      ]
     },
     "metadata": {},
     "output_type": "display_data"
    }
   ],
   "source": [
    "#Finally we plot it \n",
    "def plot_feature_importance(importance,names,model_type):\n",
    "\n",
    "    #Create arrays from feature importance and feature names\n",
    "    feature_importance = np.array(importance)\n",
    "    feature_names = np.array(names)\n",
    "\n",
    "    #Create a DataFrame using a Dictionary\n",
    "    data={'feature_names':feature_names,'feature_importance':feature_importance}\n",
    "    fi_df = pd.DataFrame(data)\n",
    "\n",
    "    #Sort the DataFrame in order decreasing feature importance\n",
    "    fi_df.sort_values(by=['feature_importance'], ascending=False,inplace=True)\n",
    "\n",
    "    #Define size of bar plot\n",
    "    plt.figure(figsize=(10,8))\n",
    "    #Plot Searborn bar chart\n",
    "    sns.barplot(x=fi_df['feature_importance'], y=fi_df['feature_names'])\n",
    "    #Add chart labels\n",
    "    plt.title(model_type + ' FEATURE IMPORTANCE')\n",
    "    plt.xlabel('FEATURE IMPORTANCE')\n",
    "    plt.ylabel('FEATURE NAMES')\n",
    "\n",
    "\n",
    "plot_feature_importance(best_grid.feature_importances_,X.columns,'RANDOM FOREST')"
   ]
  },
  {
   "cell_type": "markdown",
   "metadata": {},
   "source": [
    "#### More information on this project on: https://medium.com/@jgarciaportillo/end-to-end-data-science-project-predicting-used-car-prices-using-regression-1b12386c69c8"
   ]
  }
 ],
 "metadata": {
  "kernelspec": {
   "display_name": "Python 3",
   "language": "python",
   "name": "python3"
  },
  "language_info": {
   "codemirror_mode": {
    "name": "ipython",
    "version": 3
   },
   "file_extension": ".py",
   "mimetype": "text/x-python",
   "name": "python",
   "nbconvert_exporter": "python",
   "pygments_lexer": "ipython3",
   "version": "3.8.3"
  }
 },
 "nbformat": 4,
 "nbformat_minor": 4
}
